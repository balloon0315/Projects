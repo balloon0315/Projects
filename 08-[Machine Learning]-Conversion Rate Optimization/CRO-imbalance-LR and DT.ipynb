{
 "cells": [
  {
   "cell_type": "markdown",
   "metadata": {},
   "source": [
    "# CRO: Dealing with imbalance data (Logistic Regression and Decision Tree)\n",
    "    Ruixie Fang\n",
    "    \n",
    "### Goal\n",
    "\n",
    "Optimizing conversion rate is likely the most common work of a data scientist, and rightfully so.\n",
    "\n",
    "The data revolution has a lot to do with the fact that now we are able to collect all sorts of data about people who buy something on our site as well as people who don't. This gives us a tremendous opportunity to understand what's working well (and potentially scale it even further) and what's not working well (and ﬁx it).\n",
    "\n",
    "The goal of this challenge is to build a model that predicts conversion rate and, based on the model, come up with ideas to improve re]enue.\n",
    "\n",
    "\n",
    "### Challenge Description\n",
    "\n",
    "We have data about users who hit our site: whether they converted or not as well as some of their characteristics such as their country, the marketing channel, their age, whether they are repeat users and the number of pages visited during that session (as a proxy for site activity/time spent on site).\n",
    "\n",
    "Your project is to:\n",
    "\n",
    "   - Predict conversion rate\n",
    "\n",
    "   - Come up with recommendations for the product team and the marketing team to improve conversion rate.\n",
    "\n",
    "### Columns:\n",
    "\n",
    "- country : user country based on the IP address \n",
    "- age : user age. Self-reported at sign-in step \n",
    "- new_user : whether the user created the account during this session or had already an account and simply came back to the site \n",
    "- source : marketing channel source:\n",
    "    - Ads: came to the site by clicking on an advertisement\n",
    "    - Seo: came to the site by clicking on search results\n",
    "    - Direct: came to the site by directly typing the URL on the browser \n",
    "- total_pages_visited: number of total pages visited during the session. This is a proxy for time spent on site and engagement during the session.\n",
    "- converted: this is our label. 1 means they converted within the session, 0 means they left without buying anything. The company goal is to increase conversion rate: # conversions / total sessions."
   ]
  },
  {
   "cell_type": "code",
   "execution_count": 64,
   "metadata": {},
   "outputs": [],
   "source": [
    "# Analysis imports\n",
    "import numpy as np\n",
    "import pandas as pd\n",
    "\n",
    "# Visualization imports\n",
    "import seaborn as sns\n",
    "import matplotlib.pyplot as plt\n",
    "%matplotlib inline\n",
    "\n",
    "from sklearn import preprocessing\n",
    "from sklearn.linear_model import LogisticRegression\n",
    "from sklearn.tree import DecisionTreeClassifier\n",
    "from sklearn.ensemble import RandomForestClassifier\n",
    "from sklearn.model_selection import train_test_split,cross_val_score,GridSearchCV\n",
    "from sklearn.metrics import classification_report,confusion_matrix,roc_curve,auc\n",
    "from sklearn.metrics import accuracy_score,f1_score,recall_score,precision_score,roc_auc_score\n",
    "\n",
    "import collections\n",
    "\n",
    "# Miscellaneous imports\n",
    "import warnings\n",
    "warnings.simplefilter('ignore')"
   ]
  },
  {
   "cell_type": "markdown",
   "metadata": {},
   "source": [
    "## Import data and Basic Descriptive Analysis\n",
    "- Variable Types / Missing value/ Outliers."
   ]
  },
  {
   "cell_type": "code",
   "execution_count": 3,
   "metadata": {},
   "outputs": [
    {
     "data": {
      "text/html": [
       "<div>\n",
       "<style scoped>\n",
       "    .dataframe tbody tr th:only-of-type {\n",
       "        vertical-align: middle;\n",
       "    }\n",
       "\n",
       "    .dataframe tbody tr th {\n",
       "        vertical-align: top;\n",
       "    }\n",
       "\n",
       "    .dataframe thead th {\n",
       "        text-align: right;\n",
       "    }\n",
       "</style>\n",
       "<table border=\"1\" class=\"dataframe\">\n",
       "  <thead>\n",
       "    <tr style=\"text-align: right;\">\n",
       "      <th></th>\n",
       "      <th>country</th>\n",
       "      <th>age</th>\n",
       "      <th>new_user</th>\n",
       "      <th>source</th>\n",
       "      <th>total_pages_visited</th>\n",
       "      <th>converted</th>\n",
       "    </tr>\n",
       "  </thead>\n",
       "  <tbody>\n",
       "    <tr>\n",
       "      <th>30427</th>\n",
       "      <td>China</td>\n",
       "      <td>23</td>\n",
       "      <td>1</td>\n",
       "      <td>Seo</td>\n",
       "      <td>3</td>\n",
       "      <td>0</td>\n",
       "    </tr>\n",
       "    <tr>\n",
       "      <th>10899</th>\n",
       "      <td>US</td>\n",
       "      <td>21</td>\n",
       "      <td>0</td>\n",
       "      <td>Ads</td>\n",
       "      <td>2</td>\n",
       "      <td>0</td>\n",
       "    </tr>\n",
       "    <tr>\n",
       "      <th>239295</th>\n",
       "      <td>US</td>\n",
       "      <td>25</td>\n",
       "      <td>1</td>\n",
       "      <td>Ads</td>\n",
       "      <td>5</td>\n",
       "      <td>0</td>\n",
       "    </tr>\n",
       "    <tr>\n",
       "      <th>81235</th>\n",
       "      <td>US</td>\n",
       "      <td>55</td>\n",
       "      <td>1</td>\n",
       "      <td>Direct</td>\n",
       "      <td>4</td>\n",
       "      <td>0</td>\n",
       "    </tr>\n",
       "    <tr>\n",
       "      <th>273104</th>\n",
       "      <td>US</td>\n",
       "      <td>28</td>\n",
       "      <td>0</td>\n",
       "      <td>Seo</td>\n",
       "      <td>6</td>\n",
       "      <td>0</td>\n",
       "    </tr>\n",
       "    <tr>\n",
       "      <th>249509</th>\n",
       "      <td>US</td>\n",
       "      <td>26</td>\n",
       "      <td>1</td>\n",
       "      <td>Ads</td>\n",
       "      <td>1</td>\n",
       "      <td>0</td>\n",
       "    </tr>\n",
       "    <tr>\n",
       "      <th>149158</th>\n",
       "      <td>US</td>\n",
       "      <td>22</td>\n",
       "      <td>1</td>\n",
       "      <td>Seo</td>\n",
       "      <td>3</td>\n",
       "      <td>0</td>\n",
       "    </tr>\n",
       "    <tr>\n",
       "      <th>289961</th>\n",
       "      <td>China</td>\n",
       "      <td>35</td>\n",
       "      <td>0</td>\n",
       "      <td>Seo</td>\n",
       "      <td>4</td>\n",
       "      <td>0</td>\n",
       "    </tr>\n",
       "    <tr>\n",
       "      <th>92625</th>\n",
       "      <td>China</td>\n",
       "      <td>38</td>\n",
       "      <td>1</td>\n",
       "      <td>Ads</td>\n",
       "      <td>17</td>\n",
       "      <td>0</td>\n",
       "    </tr>\n",
       "    <tr>\n",
       "      <th>209994</th>\n",
       "      <td>Germany</td>\n",
       "      <td>29</td>\n",
       "      <td>1</td>\n",
       "      <td>Ads</td>\n",
       "      <td>6</td>\n",
       "      <td>0</td>\n",
       "    </tr>\n",
       "  </tbody>\n",
       "</table>\n",
       "</div>"
      ],
      "text/plain": [
       "        country  age  new_user  source  total_pages_visited  converted\n",
       "30427     China   23         1     Seo                    3          0\n",
       "10899        US   21         0     Ads                    2          0\n",
       "239295       US   25         1     Ads                    5          0\n",
       "81235        US   55         1  Direct                    4          0\n",
       "273104       US   28         0     Seo                    6          0\n",
       "249509       US   26         1     Ads                    1          0\n",
       "149158       US   22         1     Seo                    3          0\n",
       "289961    China   35         0     Seo                    4          0\n",
       "92625     China   38         1     Ads                   17          0\n",
       "209994  Germany   29         1     Ads                    6          0"
      ]
     },
     "execution_count": 3,
     "metadata": {},
     "output_type": "execute_result"
    }
   ],
   "source": [
    "df = pd.read_csv(\"conversion_project.csv\")\n",
    "df.sample(10)"
   ]
  },
  {
   "cell_type": "code",
   "execution_count": 4,
   "metadata": {},
   "outputs": [
    {
     "name": "stdout",
     "output_type": "stream",
     "text": [
      "<class 'pandas.core.frame.DataFrame'>\n",
      "RangeIndex: 316200 entries, 0 to 316199\n",
      "Data columns (total 6 columns):\n",
      "country                316200 non-null object\n",
      "age                    316200 non-null int64\n",
      "new_user               316200 non-null int64\n",
      "source                 316200 non-null object\n",
      "total_pages_visited    316200 non-null int64\n",
      "converted              316200 non-null int64\n",
      "dtypes: int64(4), object(2)\n",
      "memory usage: 14.5+ MB\n"
     ]
    }
   ],
   "source": [
    "df.info()"
   ]
  },
  {
   "cell_type": "code",
   "execution_count": 5,
   "metadata": {},
   "outputs": [
    {
     "name": "stdout",
     "output_type": "stream",
     "text": [
      "country                  4\t ['China', 'Germany', 'UK', 'US']\n",
      "age                     60\t [17, 18, 19, 20, 21]\n",
      "new_user                 2\t [0, 1]\n",
      "source                   3\t ['Ads', 'Direct', 'Seo']\n",
      "total_pages_visited     29\t [1, 2, 3, 4, 5]\n",
      "converted                2\t [0, 1]\n"
     ]
    }
   ],
   "source": [
    "for column in df.columns:\n",
    "    uniques = sorted(df[column].unique())\n",
    "    print('{0:20s} {1:5d}\\t'.format(column, len(uniques)), uniques[:5])"
   ]
  },
  {
   "cell_type": "markdown",
   "metadata": {},
   "source": [
    "**Categorical**: country, converted, new_user, source.   \\\n",
    "**Continous**: Age,total_pages_visited. \\\n",
    "Two features are strings (object), others are numeric."
   ]
  },
  {
   "cell_type": "code",
   "execution_count": 6,
   "metadata": {},
   "outputs": [
    {
     "name": "stdout",
     "output_type": "stream",
     "text": [
      "Columns with null values:\n",
      " country                0\n",
      "age                    0\n",
      "new_user               0\n",
      "source                 0\n",
      "total_pages_visited    0\n",
      "converted              0\n",
      "dtype: int64\n"
     ]
    }
   ],
   "source": [
    "#Check Missing values\n",
    "print('Columns with null values:\\n', df.isnull().sum())"
   ]
  },
  {
   "cell_type": "code",
   "execution_count": 7,
   "metadata": {
    "scrolled": true
   },
   "outputs": [
    {
     "data": {
      "text/html": [
       "<div>\n",
       "<style scoped>\n",
       "    .dataframe tbody tr th:only-of-type {\n",
       "        vertical-align: middle;\n",
       "    }\n",
       "\n",
       "    .dataframe tbody tr th {\n",
       "        vertical-align: top;\n",
       "    }\n",
       "\n",
       "    .dataframe thead th {\n",
       "        text-align: right;\n",
       "    }\n",
       "</style>\n",
       "<table border=\"1\" class=\"dataframe\">\n",
       "  <thead>\n",
       "    <tr style=\"text-align: right;\">\n",
       "      <th></th>\n",
       "      <th>age</th>\n",
       "      <th>new_user</th>\n",
       "      <th>total_pages_visited</th>\n",
       "      <th>converted</th>\n",
       "    </tr>\n",
       "  </thead>\n",
       "  <tbody>\n",
       "    <tr>\n",
       "      <th>count</th>\n",
       "      <td>316200.000000</td>\n",
       "      <td>316200.000000</td>\n",
       "      <td>316200.000000</td>\n",
       "      <td>316200.000000</td>\n",
       "    </tr>\n",
       "    <tr>\n",
       "      <th>mean</th>\n",
       "      <td>30.569858</td>\n",
       "      <td>0.685465</td>\n",
       "      <td>4.872966</td>\n",
       "      <td>0.032258</td>\n",
       "    </tr>\n",
       "    <tr>\n",
       "      <th>std</th>\n",
       "      <td>8.271802</td>\n",
       "      <td>0.464331</td>\n",
       "      <td>3.341104</td>\n",
       "      <td>0.176685</td>\n",
       "    </tr>\n",
       "    <tr>\n",
       "      <th>min</th>\n",
       "      <td>17.000000</td>\n",
       "      <td>0.000000</td>\n",
       "      <td>1.000000</td>\n",
       "      <td>0.000000</td>\n",
       "    </tr>\n",
       "    <tr>\n",
       "      <th>25%</th>\n",
       "      <td>24.000000</td>\n",
       "      <td>0.000000</td>\n",
       "      <td>2.000000</td>\n",
       "      <td>0.000000</td>\n",
       "    </tr>\n",
       "    <tr>\n",
       "      <th>50%</th>\n",
       "      <td>30.000000</td>\n",
       "      <td>1.000000</td>\n",
       "      <td>4.000000</td>\n",
       "      <td>0.000000</td>\n",
       "    </tr>\n",
       "    <tr>\n",
       "      <th>75%</th>\n",
       "      <td>36.000000</td>\n",
       "      <td>1.000000</td>\n",
       "      <td>7.000000</td>\n",
       "      <td>0.000000</td>\n",
       "    </tr>\n",
       "    <tr>\n",
       "      <th>max</th>\n",
       "      <td>123.000000</td>\n",
       "      <td>1.000000</td>\n",
       "      <td>29.000000</td>\n",
       "      <td>1.000000</td>\n",
       "    </tr>\n",
       "  </tbody>\n",
       "</table>\n",
       "</div>"
      ],
      "text/plain": [
       "                 age       new_user  total_pages_visited      converted\n",
       "count  316200.000000  316200.000000        316200.000000  316200.000000\n",
       "mean       30.569858       0.685465             4.872966       0.032258\n",
       "std         8.271802       0.464331             3.341104       0.176685\n",
       "min        17.000000       0.000000             1.000000       0.000000\n",
       "25%        24.000000       0.000000             2.000000       0.000000\n",
       "50%        30.000000       1.000000             4.000000       0.000000\n",
       "75%        36.000000       1.000000             7.000000       0.000000\n",
       "max       123.000000       1.000000            29.000000       1.000000"
      ]
     },
     "execution_count": 7,
     "metadata": {},
     "output_type": "execute_result"
    }
   ],
   "source": [
    "df.describe()"
   ]
  },
  {
   "cell_type": "markdown",
   "metadata": {},
   "source": [
    "**The distribution of numerical feature values across 316200 samples:**\n",
    "- Most visitors' age are around 22-38.\n",
    "- 69% of visitors are new users. \n",
    "- Total_pages_visited per visitor is around 4-5.\n",
    "- The conversion rate=3.23% indicates that visitors are hard to convert into customers.\n"
   ]
  },
  {
   "cell_type": "code",
   "execution_count": 8,
   "metadata": {},
   "outputs": [
    {
     "name": "stdout",
     "output_type": "stream",
     "text": [
      "There were 306000 Not-Converted (96.77%) and 10200 Converted (3.23%).\n"
     ]
    }
   ],
   "source": [
    "counts = df.converted.value_counts()\n",
    "Cov = counts[0]\n",
    "NotCov = counts[1]\n",
    "perc_Cov = (Cov/(Cov+NotCov))*100\n",
    "perc_NotCov = (NotCov/(Cov+NotCov))*100\n",
    "print('There were {} Not-Converted ({:.2f}%) and {} Converted ({:.2f}%).'.format(Cov, perc_Cov, NotCov, perc_NotCov))"
   ]
  },
  {
   "cell_type": "code",
   "execution_count": 9,
   "metadata": {},
   "outputs": [
    {
     "data": {
      "text/plain": [
       "Text(0.5, 1.0, 'Class Distributions \\n (0: Not Converted || 1: Converted)')"
      ]
     },
     "execution_count": 9,
     "metadata": {},
     "output_type": "execute_result"
    },
    {
     "data": {
      "image/png": "[encoded data removed]",
      "text/plain": [
       "<Figure size 432x288 with 1 Axes>"
      ]
     },
     "metadata": {
      "needs_background": "light"
     },
     "output_type": "display_data"
    }
   ],
   "source": [
    "colors = ['#B3F9C5', '#f9c5b3']\n",
    "\n",
    "sns.countplot('converted', data=df, palette=colors)\n",
    "plt.title('Class Distributions \\n (0: Not Converted || 1: Converted)', fontsize=14)"
   ]
  },
  {
   "cell_type": "markdown",
   "metadata": {},
   "source": [
    "### Outlier Detection and Removal\n",
    "Our main aim in this section is to remove \"extreme outliers\" from features that have a high correlation with our classes. This will have a positive impact on the accuracy of our models.\n",
    "\n",
    "**Boxplots:** Besides easily seeing the 25th and 75th percentiles (both end of the squares) it is also easy to see extreme outliers (points beyond the lower and higher extreme)."
   ]
  },
  {
   "cell_type": "code",
   "execution_count": 10,
   "metadata": {
    "scrolled": false
   },
   "outputs": [
    {
     "data": {
      "text/plain": [
       "Text(0.5, 1.0, 'Age Feature \\n Reduction of outliers')"
      ]
     },
     "execution_count": 10,
     "metadata": {},
     "output_type": "execute_result"
    },
    {
     "data": {
      "image/png": "[encoded data removed]",
      "text/plain": [
       "<Figure size 720x432 with 1 Axes>"
      ]
     },
     "metadata": {
      "needs_background": "light"
     },
     "output_type": "display_data"
    }
   ],
   "source": [
    "f,(ax1) = plt.subplots(1, 1, figsize=(10,6))\n",
    "\n",
    "# Boxplots with outliers removed\n",
    "# Feature \"Age\"\n",
    "sns.boxplot(x=\"converted\", y=\"age\", data=df,ax=ax1, palette=colors)\n",
    "ax1.set_title(\"Age Feature \\n Reduction of outliers\", fontsize=14)"
   ]
  },
  {
   "cell_type": "markdown",
   "metadata": {},
   "source": [
    "Typically, age should be below 100. These two obvious point(>100) can be identified as outliers and removed."
   ]
  },
  {
   "cell_type": "code",
   "execution_count": 11,
   "metadata": {
    "scrolled": true
   },
   "outputs": [
    {
     "data": {
      "text/html": [
       "<div>\n",
       "<style scoped>\n",
       "    .dataframe tbody tr th:only-of-type {\n",
       "        vertical-align: middle;\n",
       "    }\n",
       "\n",
       "    .dataframe tbody tr th {\n",
       "        vertical-align: top;\n",
       "    }\n",
       "\n",
       "    .dataframe thead th {\n",
       "        text-align: right;\n",
       "    }\n",
       "</style>\n",
       "<table border=\"1\" class=\"dataframe\">\n",
       "  <thead>\n",
       "    <tr style=\"text-align: right;\">\n",
       "      <th></th>\n",
       "      <th>country</th>\n",
       "      <th>age</th>\n",
       "      <th>new_user</th>\n",
       "      <th>source</th>\n",
       "      <th>total_pages_visited</th>\n",
       "      <th>converted</th>\n",
       "    </tr>\n",
       "  </thead>\n",
       "  <tbody>\n",
       "    <tr>\n",
       "      <th>90928</th>\n",
       "      <td>Germany</td>\n",
       "      <td>123</td>\n",
       "      <td>0</td>\n",
       "      <td>Seo</td>\n",
       "      <td>15</td>\n",
       "      <td>1</td>\n",
       "    </tr>\n",
       "    <tr>\n",
       "      <th>295581</th>\n",
       "      <td>UK</td>\n",
       "      <td>111</td>\n",
       "      <td>0</td>\n",
       "      <td>Ads</td>\n",
       "      <td>10</td>\n",
       "      <td>1</td>\n",
       "    </tr>\n",
       "  </tbody>\n",
       "</table>\n",
       "</div>"
      ],
      "text/plain": [
       "        country  age  new_user source  total_pages_visited  converted\n",
       "90928   Germany  123         0    Seo                   15          1\n",
       "295581       UK  111         0    Ads                   10          1"
      ]
     },
     "execution_count": 11,
     "metadata": {},
     "output_type": "execute_result"
    }
   ],
   "source": [
    "df[df['age'] > 100]"
   ]
  },
  {
   "cell_type": "code",
   "execution_count": 12,
   "metadata": {},
   "outputs": [],
   "source": [
    "# Remove outliers\n",
    "df = df[df.age < 100]"
   ]
  },
  {
   "cell_type": "markdown",
   "metadata": {},
   "source": [
    "## Exploratory Data Analysis\n",
    "- Feature Analysis : Country / User Type / Total Pages visited / Sources /Ages"
   ]
  },
  {
   "cell_type": "code",
   "execution_count": 13,
   "metadata": {},
   "outputs": [
    {
     "data": {
      "image/png": "[encoded data removed]",
      "text/plain": [
       "<Figure size 1296x432 with 2 Axes>"
      ]
     },
     "metadata": {
      "needs_background": "light"
     },
     "output_type": "display_data"
    }
   ],
   "source": [
    "# Visualization of different countries\n",
    "grouped = df[['country', 'converted']].groupby('country').mean().reset_index()\n",
    "\n",
    "fig, ax = plt.subplots(nrows=1, ncols=2, figsize=(18, 6))\n",
    "sns.countplot(x='country', hue='converted', data=df, ax=ax[0])\n",
    "ax[0].set_title('Count Plot of Country', fontsize=16)\n",
    "ax[0].set_yscale('log')\n",
    "sns.barplot(x='country', y='converted', data=df, ax=ax[1]);\n",
    "ax[1].set_title('Mean Conversion Rate per Country', fontsize=16)\n",
    "plt.tight_layout()\n",
    "plt.show()"
   ]
  },
  {
   "cell_type": "markdown",
   "metadata": {},
   "source": [
    "**Assumption based on country:**\n",
    "- The overall rate of Conversion = 0 is greater than conversion = 1.\n",
    "- Most visitors are from US.\n",
    "- German has less visitors but highest conversion rate.\n",
    "- China has 2nd rank of visitors number but with extreme low conversion rate. \n",
    "\n",
    "It might be a reason that affect visitors. Website language for product description may be all English. \\\n",
    "Since China is a large population country. Improving Chinese visitors' user experience, it might be a good strategy to increase conversion rate."
   ]
  },
  {
   "cell_type": "code",
   "execution_count": 290,
   "metadata": {},
   "outputs": [
    {
     "data": {
      "image/png": "[encoded data removed]",
      "text/plain": [
       "<Figure size 1296x432 with 2 Axes>"
      ]
     },
     "metadata": {
      "needs_background": "light"
     },
     "output_type": "display_data"
    }
   ],
   "source": [
    "# Visualization of different user types\n",
    "grouped = df[['new_user', 'converted']].groupby('new_user').mean().reset_index()\n",
    "\n",
    "fig, ax = plt.subplots(nrows=1, ncols=2, figsize=(18, 6))\n",
    "sns.countplot(x='new_user', hue='converted', data=df, ax=ax[0])\n",
    "ax[0].set_title('Count Plot of User Types', fontsize=16)\n",
    "ax[0].set_yscale('log')\n",
    "sns.barplot(x='new_user', y='converted', data=df, ax=ax[1]);\n",
    "ax[1].set_title('Mean Conversion Rate per User Type', fontsize=16)\n",
    "plt.tight_layout()\n",
    "plt.show()"
   ]
  },
  {
   "cell_type": "markdown",
   "metadata": {},
   "source": [
    "**Assumption based on user type:**  \\\n",
    "The mean conversion rate of old-users is almost 75.7% than that of new-users. "
   ]
  },
  {
   "cell_type": "code",
   "execution_count": 291,
   "metadata": {
    "scrolled": true
   },
   "outputs": [
    {
     "data": {
      "image/png": "[encoded data removed]",
      "text/plain": [
       "<Figure size 1296x432 with 2 Axes>"
      ]
     },
     "metadata": {
      "needs_background": "light"
     },
     "output_type": "display_data"
    }
   ],
   "source": [
    "# Visualization of different sources\n",
    "grouped = df[['source', 'converted']].groupby('source').mean().reset_index()\n",
    "\n",
    "fig, ax = plt.subplots(nrows=1, ncols=2, figsize=(18, 6))\n",
    "sns.countplot(x='source', hue='converted', data=df, ax=ax[0])\n",
    "ax[0].set_title('Count Plot of Different Sources', fontsize=16)\n",
    "ax[0].set_yscale('log')\n",
    "sns.barplot(x='source', y='converted', data=df, ax=ax[1]);\n",
    "ax[1].set_title('Mean Conversion Rate per Source', fontsize=16)\n",
    "plt.tight_layout()\n",
    "plt.show()"
   ]
  },
  {
   "cell_type": "markdown",
   "metadata": {},
   "source": [
    "**Assumption based on sources:**   \n",
    "\n",
    "    Ads: came to the site by clicking on an advertisement\n",
    "    Seo: came to the site by clicking on search results\n",
    "    Direct: came to the site by directly typing the URL on the browser  \n",
    "- The advertisement can be a powerful campaign to attract visitors.\n",
    "- Visitors from search source has the highest conversion rate. They have more motivation to purchase since they have a purpose in knowing about the product."
   ]
  },
  {
   "cell_type": "markdown",
   "metadata": {},
   "source": [
    "**Distributions:** By seeing the distributions we can have an idea how skewed are these features, we can also see further distributions of the other features. There are techniques that can help the distributions be less skewed which will be implemented in this notebook in the future."
   ]
  },
  {
   "cell_type": "code",
   "execution_count": 292,
   "metadata": {},
   "outputs": [
    {
     "data": {
      "image/png": "[encoded data removed]",
      "text/plain": [
       "<Figure size 1296x432 with 2 Axes>"
      ]
     },
     "metadata": {
      "needs_background": "light"
     },
     "output_type": "display_data"
    }
   ],
   "source": [
    "# Visualization of different age\n",
    "grouped = df[['age', 'converted']].groupby('age').mean().reset_index()\n",
    "hist_kws={'histtype': 'bar', 'edgecolor':'black', 'alpha': 0.2}\n",
    "\n",
    "fig, ax = plt.subplots(nrows=1, ncols=2, figsize=(18, 6))\n",
    "sns.distplot(df[df['converted'] == 0]['age'], label='Converted 0', \n",
    "             ax=ax[0], hist_kws=hist_kws)\n",
    "sns.distplot(df[df['converted'] == 1]['age'], label='Converted 1', \n",
    "             ax=ax[0], hist_kws=hist_kws)\n",
    "ax[0].set_title('Count Plot of Age', fontsize=16)\n",
    "ax[0].legend()\n",
    "ax[1].plot(grouped['age'], grouped['converted'], '.-')\n",
    "ax[1].set_title('Mean Conversion Rate vs. Age', fontsize=16)\n",
    "ax[1].set_xlabel('age')\n",
    "ax[1].set_ylabel('Mean convertion rate')\n",
    "ax[1].grid(True)\n",
    "plt.show()"
   ]
  },
  {
   "cell_type": "markdown",
   "metadata": {},
   "source": [
    "**Assumption based on age:**\n",
    "- Most visitors' age are around 22-38 and all visitors age>65 are not convert into customer. \n",
    "- Negative relasionship between age and conversion rate. Normally younger people have higher purchase demand than older person.\n",
    "- Especially visitors' age from 18-32 has higher conversion rate. The reason might be that the product suits younger people's need more."
   ]
  },
  {
   "cell_type": "code",
   "execution_count": 293,
   "metadata": {},
   "outputs": [
    {
     "data": {
      "image/png": "[encoded data removed]",
      "text/plain": [
       "<Figure size 1296x432 with 2 Axes>"
      ]
     },
     "metadata": {
      "needs_background": "light"
     },
     "output_type": "display_data"
    }
   ],
   "source": [
    "# Visualization of total_pages_visited\n",
    "grouped = df[['total_pages_visited', 'converted']].groupby('total_pages_visited').mean().reset_index()\n",
    "\n",
    "fig, ax = plt.subplots(nrows=1, ncols=2, figsize=(18, 6))\n",
    "sns.distplot(df[df['converted'] == 0]['total_pages_visited'], \n",
    "             label='Converted 0', ax=ax[0], hist_kws=hist_kws)\n",
    "sns.distplot(df[df['converted'] == 1]['total_pages_visited'], \n",
    "             label='Converted 1', ax=ax[0], hist_kws=hist_kws)\n",
    "ax[0].set_title('Count Plot of Age', fontsize=16)\n",
    "ax[0].legend()\n",
    "ax[1].plot(grouped['total_pages_visited'], grouped['converted'], '.-')\n",
    "ax[1].set_title('Mean Conversion Rate vs. Total_pages_visited', fontsize=16)\n",
    "ax[1].set_xlabel('total_pages_visited')\n",
    "ax[1].set_ylabel('Mean convertion rate')\n",
    "ax[1].grid(True)\n",
    "plt.show()"
   ]
  },
  {
   "cell_type": "markdown",
   "metadata": {},
   "source": [
    "There is a positive regression relationship between total_pages_visited and converted mean. The visitor with greater visites pages has higher potential to convert into customer."
   ]
  },
  {
   "cell_type": "markdown",
   "metadata": {},
   "source": [
    "### dummy coding"
   ]
  },
  {
   "cell_type": "code",
   "execution_count": 14,
   "metadata": {
    "scrolled": true
   },
   "outputs": [
    {
     "data": {
      "text/html": [
       "<div>\n",
       "<style scoped>\n",
       "    .dataframe tbody tr th:only-of-type {\n",
       "        vertical-align: middle;\n",
       "    }\n",
       "\n",
       "    .dataframe tbody tr th {\n",
       "        vertical-align: top;\n",
       "    }\n",
       "\n",
       "    .dataframe thead th {\n",
       "        text-align: right;\n",
       "    }\n",
       "</style>\n",
       "<table border=\"1\" class=\"dataframe\">\n",
       "  <thead>\n",
       "    <tr style=\"text-align: right;\">\n",
       "      <th></th>\n",
       "      <th>age</th>\n",
       "      <th>new_user</th>\n",
       "      <th>total_pages_visited</th>\n",
       "      <th>converted</th>\n",
       "      <th>country_China</th>\n",
       "      <th>country_Germany</th>\n",
       "      <th>country_UK</th>\n",
       "      <th>country_US</th>\n",
       "      <th>source_Ads</th>\n",
       "      <th>source_Direct</th>\n",
       "      <th>source_Seo</th>\n",
       "    </tr>\n",
       "  </thead>\n",
       "  <tbody>\n",
       "    <tr>\n",
       "      <th>294466</th>\n",
       "      <td>37</td>\n",
       "      <td>0</td>\n",
       "      <td>6</td>\n",
       "      <td>0</td>\n",
       "      <td>0</td>\n",
       "      <td>0</td>\n",
       "      <td>1</td>\n",
       "      <td>0</td>\n",
       "      <td>1</td>\n",
       "      <td>0</td>\n",
       "      <td>0</td>\n",
       "    </tr>\n",
       "    <tr>\n",
       "      <th>43665</th>\n",
       "      <td>29</td>\n",
       "      <td>1</td>\n",
       "      <td>6</td>\n",
       "      <td>0</td>\n",
       "      <td>0</td>\n",
       "      <td>0</td>\n",
       "      <td>0</td>\n",
       "      <td>1</td>\n",
       "      <td>0</td>\n",
       "      <td>0</td>\n",
       "      <td>1</td>\n",
       "    </tr>\n",
       "    <tr>\n",
       "      <th>107497</th>\n",
       "      <td>24</td>\n",
       "      <td>0</td>\n",
       "      <td>6</td>\n",
       "      <td>0</td>\n",
       "      <td>0</td>\n",
       "      <td>0</td>\n",
       "      <td>0</td>\n",
       "      <td>1</td>\n",
       "      <td>0</td>\n",
       "      <td>0</td>\n",
       "      <td>1</td>\n",
       "    </tr>\n",
       "    <tr>\n",
       "      <th>282538</th>\n",
       "      <td>46</td>\n",
       "      <td>0</td>\n",
       "      <td>7</td>\n",
       "      <td>0</td>\n",
       "      <td>0</td>\n",
       "      <td>0</td>\n",
       "      <td>0</td>\n",
       "      <td>1</td>\n",
       "      <td>1</td>\n",
       "      <td>0</td>\n",
       "      <td>0</td>\n",
       "    </tr>\n",
       "    <tr>\n",
       "      <th>57948</th>\n",
       "      <td>22</td>\n",
       "      <td>0</td>\n",
       "      <td>1</td>\n",
       "      <td>0</td>\n",
       "      <td>0</td>\n",
       "      <td>0</td>\n",
       "      <td>1</td>\n",
       "      <td>0</td>\n",
       "      <td>0</td>\n",
       "      <td>0</td>\n",
       "      <td>1</td>\n",
       "    </tr>\n",
       "    <tr>\n",
       "      <th>240633</th>\n",
       "      <td>21</td>\n",
       "      <td>1</td>\n",
       "      <td>7</td>\n",
       "      <td>0</td>\n",
       "      <td>0</td>\n",
       "      <td>0</td>\n",
       "      <td>0</td>\n",
       "      <td>1</td>\n",
       "      <td>0</td>\n",
       "      <td>1</td>\n",
       "      <td>0</td>\n",
       "    </tr>\n",
       "    <tr>\n",
       "      <th>173307</th>\n",
       "      <td>27</td>\n",
       "      <td>0</td>\n",
       "      <td>5</td>\n",
       "      <td>0</td>\n",
       "      <td>1</td>\n",
       "      <td>0</td>\n",
       "      <td>0</td>\n",
       "      <td>0</td>\n",
       "      <td>0</td>\n",
       "      <td>0</td>\n",
       "      <td>1</td>\n",
       "    </tr>\n",
       "    <tr>\n",
       "      <th>68543</th>\n",
       "      <td>17</td>\n",
       "      <td>1</td>\n",
       "      <td>1</td>\n",
       "      <td>0</td>\n",
       "      <td>0</td>\n",
       "      <td>0</td>\n",
       "      <td>0</td>\n",
       "      <td>1</td>\n",
       "      <td>0</td>\n",
       "      <td>1</td>\n",
       "      <td>0</td>\n",
       "    </tr>\n",
       "    <tr>\n",
       "      <th>71309</th>\n",
       "      <td>28</td>\n",
       "      <td>1</td>\n",
       "      <td>2</td>\n",
       "      <td>0</td>\n",
       "      <td>0</td>\n",
       "      <td>0</td>\n",
       "      <td>0</td>\n",
       "      <td>1</td>\n",
       "      <td>0</td>\n",
       "      <td>0</td>\n",
       "      <td>1</td>\n",
       "    </tr>\n",
       "    <tr>\n",
       "      <th>186829</th>\n",
       "      <td>27</td>\n",
       "      <td>0</td>\n",
       "      <td>6</td>\n",
       "      <td>0</td>\n",
       "      <td>0</td>\n",
       "      <td>1</td>\n",
       "      <td>0</td>\n",
       "      <td>0</td>\n",
       "      <td>1</td>\n",
       "      <td>0</td>\n",
       "      <td>0</td>\n",
       "    </tr>\n",
       "  </tbody>\n",
       "</table>\n",
       "</div>"
      ],
      "text/plain": [
       "        age  new_user  total_pages_visited  converted  country_China  \\\n",
       "294466   37         0                    6          0              0   \n",
       "43665    29         1                    6          0              0   \n",
       "107497   24         0                    6          0              0   \n",
       "282538   46         0                    7          0              0   \n",
       "57948    22         0                    1          0              0   \n",
       "240633   21         1                    7          0              0   \n",
       "173307   27         0                    5          0              1   \n",
       "68543    17         1                    1          0              0   \n",
       "71309    28         1                    2          0              0   \n",
       "186829   27         0                    6          0              0   \n",
       "\n",
       "        country_Germany  country_UK  country_US  source_Ads  source_Direct  \\\n",
       "294466                0           1           0           1              0   \n",
       "43665                 0           0           1           0              0   \n",
       "107497                0           0           1           0              0   \n",
       "282538                0           0           1           1              0   \n",
       "57948                 0           1           0           0              0   \n",
       "240633                0           0           1           0              1   \n",
       "173307                0           0           0           0              0   \n",
       "68543                 0           0           1           0              1   \n",
       "71309                 0           0           1           0              0   \n",
       "186829                1           0           0           1              0   \n",
       "\n",
       "        source_Seo  \n",
       "294466           0  \n",
       "43665            1  \n",
       "107497           1  \n",
       "282538           0  \n",
       "57948            1  \n",
       "240633           0  \n",
       "173307           1  \n",
       "68543            0  \n",
       "71309            1  \n",
       "186829           0  "
      ]
     },
     "execution_count": 14,
     "metadata": {},
     "output_type": "execute_result"
    }
   ],
   "source": [
    "#Convert the categorical values to ordinal.\n",
    "#That categorical data is defined as variables with a finite set of label values. \n",
    "#That most machine learning algorithms require numerical input and output variables. \n",
    "#That an integer and one hot encoding is used to convert categorical data to integer data.\n",
    "\n",
    "#dummy coding\n",
    "# Create dummy variables for country values\n",
    "dfd=df.copy()\n",
    "country_dummies = pd.get_dummies(dfd.country, prefix='country')\n",
    "dfd = pd.concat([dfd, country_dummies], axis=1)\n",
    "# Create dummy variables for source values\n",
    "source_dummies = pd.get_dummies(dfd.source, prefix='source')\n",
    "dfd = pd.concat([dfd, source_dummies], axis=1)\n",
    "dfd.drop([\"country\", \"source\"], axis=1, inplace=True)\n",
    "dfd.sample(10)"
   ]
  },
  {
   "cell_type": "code",
   "execution_count": 15,
   "metadata": {
    "scrolled": true
   },
   "outputs": [
    {
     "data": {
      "text/html": [
       "<div>\n",
       "<style scoped>\n",
       "    .dataframe tbody tr th:only-of-type {\n",
       "        vertical-align: middle;\n",
       "    }\n",
       "\n",
       "    .dataframe tbody tr th {\n",
       "        vertical-align: top;\n",
       "    }\n",
       "\n",
       "    .dataframe thead th {\n",
       "        text-align: right;\n",
       "    }\n",
       "</style>\n",
       "<table border=\"1\" class=\"dataframe\">\n",
       "  <thead>\n",
       "    <tr style=\"text-align: right;\">\n",
       "      <th></th>\n",
       "      <th>country_UK</th>\n",
       "      <th>country_US</th>\n",
       "      <th>country_Germany</th>\n",
       "      <th>country_China</th>\n",
       "      <th>source_Ads</th>\n",
       "      <th>source_Direct</th>\n",
       "      <th>source_Seo</th>\n",
       "      <th>new_user</th>\n",
       "      <th>age</th>\n",
       "      <th>total_pages_visited</th>\n",
       "      <th>converted</th>\n",
       "    </tr>\n",
       "  </thead>\n",
       "  <tbody>\n",
       "    <tr>\n",
       "      <th>264913</th>\n",
       "      <td>0</td>\n",
       "      <td>0</td>\n",
       "      <td>0</td>\n",
       "      <td>1</td>\n",
       "      <td>1</td>\n",
       "      <td>0</td>\n",
       "      <td>0</td>\n",
       "      <td>1</td>\n",
       "      <td>0.129032</td>\n",
       "      <td>0.107143</td>\n",
       "      <td>0</td>\n",
       "    </tr>\n",
       "    <tr>\n",
       "      <th>123051</th>\n",
       "      <td>0</td>\n",
       "      <td>1</td>\n",
       "      <td>0</td>\n",
       "      <td>0</td>\n",
       "      <td>1</td>\n",
       "      <td>0</td>\n",
       "      <td>0</td>\n",
       "      <td>1</td>\n",
       "      <td>0.274194</td>\n",
       "      <td>0.071429</td>\n",
       "      <td>0</td>\n",
       "    </tr>\n",
       "    <tr>\n",
       "      <th>87090</th>\n",
       "      <td>0</td>\n",
       "      <td>1</td>\n",
       "      <td>0</td>\n",
       "      <td>0</td>\n",
       "      <td>0</td>\n",
       "      <td>0</td>\n",
       "      <td>1</td>\n",
       "      <td>1</td>\n",
       "      <td>0.500000</td>\n",
       "      <td>0.071429</td>\n",
       "      <td>0</td>\n",
       "    </tr>\n",
       "    <tr>\n",
       "      <th>27675</th>\n",
       "      <td>0</td>\n",
       "      <td>1</td>\n",
       "      <td>0</td>\n",
       "      <td>0</td>\n",
       "      <td>0</td>\n",
       "      <td>0</td>\n",
       "      <td>1</td>\n",
       "      <td>1</td>\n",
       "      <td>0.096774</td>\n",
       "      <td>0.142857</td>\n",
       "      <td>0</td>\n",
       "    </tr>\n",
       "    <tr>\n",
       "      <th>42699</th>\n",
       "      <td>0</td>\n",
       "      <td>1</td>\n",
       "      <td>0</td>\n",
       "      <td>0</td>\n",
       "      <td>0</td>\n",
       "      <td>0</td>\n",
       "      <td>1</td>\n",
       "      <td>0</td>\n",
       "      <td>0.209677</td>\n",
       "      <td>0.250000</td>\n",
       "      <td>0</td>\n",
       "    </tr>\n",
       "    <tr>\n",
       "      <th>1810</th>\n",
       "      <td>0</td>\n",
       "      <td>0</td>\n",
       "      <td>0</td>\n",
       "      <td>1</td>\n",
       "      <td>0</td>\n",
       "      <td>0</td>\n",
       "      <td>1</td>\n",
       "      <td>1</td>\n",
       "      <td>0.290323</td>\n",
       "      <td>0.035714</td>\n",
       "      <td>0</td>\n",
       "    </tr>\n",
       "    <tr>\n",
       "      <th>99557</th>\n",
       "      <td>0</td>\n",
       "      <td>0</td>\n",
       "      <td>0</td>\n",
       "      <td>1</td>\n",
       "      <td>0</td>\n",
       "      <td>1</td>\n",
       "      <td>0</td>\n",
       "      <td>0</td>\n",
       "      <td>0.161290</td>\n",
       "      <td>0.321429</td>\n",
       "      <td>0</td>\n",
       "    </tr>\n",
       "    <tr>\n",
       "      <th>80205</th>\n",
       "      <td>0</td>\n",
       "      <td>0</td>\n",
       "      <td>0</td>\n",
       "      <td>1</td>\n",
       "      <td>0</td>\n",
       "      <td>0</td>\n",
       "      <td>1</td>\n",
       "      <td>1</td>\n",
       "      <td>0.258065</td>\n",
       "      <td>0.321429</td>\n",
       "      <td>0</td>\n",
       "    </tr>\n",
       "    <tr>\n",
       "      <th>301770</th>\n",
       "      <td>0</td>\n",
       "      <td>1</td>\n",
       "      <td>0</td>\n",
       "      <td>0</td>\n",
       "      <td>0</td>\n",
       "      <td>0</td>\n",
       "      <td>1</td>\n",
       "      <td>0</td>\n",
       "      <td>0.096774</td>\n",
       "      <td>0.071429</td>\n",
       "      <td>0</td>\n",
       "    </tr>\n",
       "    <tr>\n",
       "      <th>108872</th>\n",
       "      <td>0</td>\n",
       "      <td>0</td>\n",
       "      <td>0</td>\n",
       "      <td>1</td>\n",
       "      <td>0</td>\n",
       "      <td>1</td>\n",
       "      <td>0</td>\n",
       "      <td>0</td>\n",
       "      <td>0.306452</td>\n",
       "      <td>0.142857</td>\n",
       "      <td>0</td>\n",
       "    </tr>\n",
       "  </tbody>\n",
       "</table>\n",
       "</div>"
      ],
      "text/plain": [
       "        country_UK  country_US  country_Germany  country_China  source_Ads  \\\n",
       "264913           0           0                0              1           1   \n",
       "123051           0           1                0              0           1   \n",
       "87090            0           1                0              0           0   \n",
       "27675            0           1                0              0           0   \n",
       "42699            0           1                0              0           0   \n",
       "1810             0           0                0              1           0   \n",
       "99557            0           0                0              1           0   \n",
       "80205            0           0                0              1           0   \n",
       "301770           0           1                0              0           0   \n",
       "108872           0           0                0              1           0   \n",
       "\n",
       "        source_Direct  source_Seo  new_user       age  total_pages_visited  \\\n",
       "264913              0           0         1  0.129032             0.107143   \n",
       "123051              0           0         1  0.274194             0.071429   \n",
       "87090               0           1         1  0.500000             0.071429   \n",
       "27675               0           1         1  0.096774             0.142857   \n",
       "42699               0           1         0  0.209677             0.250000   \n",
       "1810                0           1         1  0.290323             0.035714   \n",
       "99557               1           0         0  0.161290             0.321429   \n",
       "80205               0           1         1  0.258065             0.321429   \n",
       "301770              0           1         0  0.096774             0.071429   \n",
       "108872              1           0         0  0.306452             0.142857   \n",
       "\n",
       "        converted  \n",
       "264913          0  \n",
       "123051          0  \n",
       "87090           0  \n",
       "27675           0  \n",
       "42699           0  \n",
       "1810            0  \n",
       "99557           0  \n",
       "80205           0  \n",
       "301770          0  \n",
       "108872          0  "
      ]
     },
     "execution_count": 15,
     "metadata": {},
     "output_type": "execute_result"
    }
   ],
   "source": [
    "#Normalization (Here used min-max normalization)\n",
    "# Min-max normalization: Guarantees all features will have the exact same scale but does not handle outliers well. \n",
    "# Z-score normalization: Handles outliers, but does not produce normalized data with the exact same scale.\n",
    "dfd_normalize = dfd[[\"age\", \"total_pages_visited\"]].copy()\n",
    "m = dfd_normalize.values\n",
    "min_max_scaler = preprocessing.MinMaxScaler()\n",
    "dfd[[\"age\", \"total_pages_visited\"]] = min_max_scaler.fit_transform(m)\n",
    "dfd = dfd[[\"country_UK\", \n",
    "            \"country_US\", \n",
    "            \"country_Germany\", \n",
    "            \"country_China\", \n",
    "            \"source_Ads\", \n",
    "            \"source_Direct\", \n",
    "            \"source_Seo\", \n",
    "            \"new_user\",\n",
    "            \"age\", \n",
    "            \"total_pages_visited\", \n",
    "            \"converted\"]]\n",
    "dfd.sample(10)"
   ]
  },
  {
   "cell_type": "code",
   "execution_count": 16,
   "metadata": {},
   "outputs": [
    {
     "data": {
      "text/plain": [
       "country_UK             0\n",
       "country_US             0\n",
       "country_Germany        0\n",
       "country_China          0\n",
       "source_Ads             0\n",
       "source_Direct          0\n",
       "source_Seo             0\n",
       "new_user               0\n",
       "age                    0\n",
       "total_pages_visited    0\n",
       "converted              0\n",
       "dtype: int64"
      ]
     },
     "execution_count": 16,
     "metadata": {},
     "output_type": "execute_result"
    }
   ],
   "source": [
    "dfd.isnull().sum()"
   ]
  },
  {
   "cell_type": "markdown",
   "metadata": {},
   "source": [
    "### Data split\n",
    "Before proceeding with the Random UnderSampling technique we have to separate the orginal dataframe. Why? for testing purposes, remember although we are splitting the data when implementing Random UnderSampling or OverSampling techniques, we want to test our models on the original testing set not on the testing set created by either of these techniques. The main goal is to fit the model either with the dataframes that were undersample and oversample (in order for our models to detect the patterns), and test it on the original testing set."
   ]
  },
  {
   "cell_type": "code",
   "execution_count": 19,
   "metadata": {},
   "outputs": [
    {
     "name": "stdout",
     "output_type": "stream",
     "text": [
      "0.03227808569011457 0.032147375079063886\n"
     ]
    }
   ],
   "source": [
    "#Splitting the Data (Original DataFrame)  (Capital X Y)\n",
    "X=dfd[dfd.columns[:-1]]\n",
    "Y=dfd['converted']\n",
    "X_tn, X_tt, Y_tn, Y_tt = train_test_split(X, Y, test_size=0.2)\n",
    "# Turn into an array\n",
    "X_train = X_tn.values\n",
    "X_test = X_tt.values\n",
    "Y_train = Y_tn.values\n",
    "Y_test = Y_tt.values\n",
    "\n",
    "print(Y_train.mean(),Y_test.mean())"
   ]
  },
  {
   "cell_type": "markdown",
   "metadata": {},
   "source": [
    "### Random Under-sampling\n",
    "we will implement \"Random Under Sampling\" which basically consists of removing data in order to have a more balanced dataset and thus avoiding our models to overfitting."
   ]
  },
  {
   "cell_type": "markdown",
   "metadata": {},
   "source": [
    "#### Undersampling During Cross Validation (Undersampling Done Right)\n",
    "Here, we will undersample our dataset after splitting it into training data and test data. This is the right way to do random undersampling."
   ]
  },
  {
   "cell_type": "markdown",
   "metadata": {},
   "source": [
    "**Steps:**\n",
    "- The first thing we have to do is determine how imbalanced is our class (use \"value_counts()\" on the class column to determine the amount for each label)\n",
    "- Once we determine how many instances are considered Converted (Converted = \"1\") , we should bring the Not_converted to the same amount as Converted (assuming we want a 50/50 ratio), this will be equivalent to 8165 cases of converted and 244793 cases of not_converted.\n",
    "- After implementing this technique, we have a sub-sample of our dataframe with a 50/50 ratio with regards to our classes. Then the next step we will implement is training model based on subsample and testing model on original testing set.\n",
    "\n",
    "**Note:** The main issue with \"Random Under-Sampling\" is that we run the risk that our classification models will not perform as accurate as we would like to since there is a great deal of information loss (bringing 8165 not_converted from 244793 not_converted)"
   ]
  },
  {
   "cell_type": "code",
   "execution_count": 20,
   "metadata": {},
   "outputs": [
    {
     "name": "stdout",
     "output_type": "stream",
     "text": [
      "8165 244793\n"
     ]
    }
   ],
   "source": [
    "train_data = pd.concat([X_tn, Y_tn], axis=1)\n",
    "test_data = pd.concat([X_tt, Y_tt], axis=1)\n",
    "converted = train_data[train_data.converted==1]\n",
    "not_converted = train_data[train_data.converted==0]\n",
    "print(len(converted),len(not_converted))"
   ]
  },
  {
   "cell_type": "code",
   "execution_count": 21,
   "metadata": {},
   "outputs": [
    {
     "data": {
      "text/html": [
       "<div>\n",
       "<style scoped>\n",
       "    .dataframe tbody tr th:only-of-type {\n",
       "        vertical-align: middle;\n",
       "    }\n",
       "\n",
       "    .dataframe tbody tr th {\n",
       "        vertical-align: top;\n",
       "    }\n",
       "\n",
       "    .dataframe thead th {\n",
       "        text-align: right;\n",
       "    }\n",
       "</style>\n",
       "<table border=\"1\" class=\"dataframe\">\n",
       "  <thead>\n",
       "    <tr style=\"text-align: right;\">\n",
       "      <th></th>\n",
       "      <th>country_UK</th>\n",
       "      <th>country_US</th>\n",
       "      <th>country_Germany</th>\n",
       "      <th>country_China</th>\n",
       "      <th>source_Ads</th>\n",
       "      <th>source_Direct</th>\n",
       "      <th>source_Seo</th>\n",
       "      <th>new_user</th>\n",
       "      <th>age</th>\n",
       "      <th>total_pages_visited</th>\n",
       "      <th>converted</th>\n",
       "    </tr>\n",
       "  </thead>\n",
       "  <tbody>\n",
       "    <tr>\n",
       "      <th>241324</th>\n",
       "      <td>0</td>\n",
       "      <td>1</td>\n",
       "      <td>0</td>\n",
       "      <td>0</td>\n",
       "      <td>0</td>\n",
       "      <td>0</td>\n",
       "      <td>1</td>\n",
       "      <td>0</td>\n",
       "      <td>0.096774</td>\n",
       "      <td>0.500000</td>\n",
       "      <td>1</td>\n",
       "    </tr>\n",
       "    <tr>\n",
       "      <th>8976</th>\n",
       "      <td>0</td>\n",
       "      <td>1</td>\n",
       "      <td>0</td>\n",
       "      <td>0</td>\n",
       "      <td>0</td>\n",
       "      <td>0</td>\n",
       "      <td>1</td>\n",
       "      <td>0</td>\n",
       "      <td>0.354839</td>\n",
       "      <td>0.107143</td>\n",
       "      <td>0</td>\n",
       "    </tr>\n",
       "    <tr>\n",
       "      <th>299285</th>\n",
       "      <td>0</td>\n",
       "      <td>1</td>\n",
       "      <td>0</td>\n",
       "      <td>0</td>\n",
       "      <td>0</td>\n",
       "      <td>0</td>\n",
       "      <td>1</td>\n",
       "      <td>1</td>\n",
       "      <td>0.209677</td>\n",
       "      <td>0.142857</td>\n",
       "      <td>0</td>\n",
       "    </tr>\n",
       "    <tr>\n",
       "      <th>25048</th>\n",
       "      <td>0</td>\n",
       "      <td>1</td>\n",
       "      <td>0</td>\n",
       "      <td>0</td>\n",
       "      <td>0</td>\n",
       "      <td>0</td>\n",
       "      <td>1</td>\n",
       "      <td>0</td>\n",
       "      <td>0.096774</td>\n",
       "      <td>0.178571</td>\n",
       "      <td>0</td>\n",
       "    </tr>\n",
       "    <tr>\n",
       "      <th>200366</th>\n",
       "      <td>0</td>\n",
       "      <td>0</td>\n",
       "      <td>1</td>\n",
       "      <td>0</td>\n",
       "      <td>1</td>\n",
       "      <td>0</td>\n",
       "      <td>0</td>\n",
       "      <td>0</td>\n",
       "      <td>0.112903</td>\n",
       "      <td>0.464286</td>\n",
       "      <td>1</td>\n",
       "    </tr>\n",
       "    <tr>\n",
       "      <th>157026</th>\n",
       "      <td>0</td>\n",
       "      <td>1</td>\n",
       "      <td>0</td>\n",
       "      <td>0</td>\n",
       "      <td>0</td>\n",
       "      <td>0</td>\n",
       "      <td>1</td>\n",
       "      <td>0</td>\n",
       "      <td>0.225806</td>\n",
       "      <td>0.428571</td>\n",
       "      <td>1</td>\n",
       "    </tr>\n",
       "    <tr>\n",
       "      <th>71368</th>\n",
       "      <td>1</td>\n",
       "      <td>0</td>\n",
       "      <td>0</td>\n",
       "      <td>0</td>\n",
       "      <td>0</td>\n",
       "      <td>1</td>\n",
       "      <td>0</td>\n",
       "      <td>0</td>\n",
       "      <td>0.225806</td>\n",
       "      <td>0.214286</td>\n",
       "      <td>0</td>\n",
       "    </tr>\n",
       "    <tr>\n",
       "      <th>199664</th>\n",
       "      <td>0</td>\n",
       "      <td>1</td>\n",
       "      <td>0</td>\n",
       "      <td>0</td>\n",
       "      <td>0</td>\n",
       "      <td>0</td>\n",
       "      <td>1</td>\n",
       "      <td>1</td>\n",
       "      <td>0.322581</td>\n",
       "      <td>0.035714</td>\n",
       "      <td>0</td>\n",
       "    </tr>\n",
       "    <tr>\n",
       "      <th>190935</th>\n",
       "      <td>0</td>\n",
       "      <td>0</td>\n",
       "      <td>0</td>\n",
       "      <td>1</td>\n",
       "      <td>1</td>\n",
       "      <td>0</td>\n",
       "      <td>0</td>\n",
       "      <td>0</td>\n",
       "      <td>0.290323</td>\n",
       "      <td>0.107143</td>\n",
       "      <td>0</td>\n",
       "    </tr>\n",
       "    <tr>\n",
       "      <th>172207</th>\n",
       "      <td>0</td>\n",
       "      <td>0</td>\n",
       "      <td>0</td>\n",
       "      <td>1</td>\n",
       "      <td>1</td>\n",
       "      <td>0</td>\n",
       "      <td>0</td>\n",
       "      <td>1</td>\n",
       "      <td>0.145161</td>\n",
       "      <td>0.142857</td>\n",
       "      <td>0</td>\n",
       "    </tr>\n",
       "  </tbody>\n",
       "</table>\n",
       "</div>"
      ],
      "text/plain": [
       "        country_UK  country_US  country_Germany  country_China  source_Ads  \\\n",
       "241324           0           1                0              0           0   \n",
       "8976             0           1                0              0           0   \n",
       "299285           0           1                0              0           0   \n",
       "25048            0           1                0              0           0   \n",
       "200366           0           0                1              0           1   \n",
       "157026           0           1                0              0           0   \n",
       "71368            1           0                0              0           0   \n",
       "199664           0           1                0              0           0   \n",
       "190935           0           0                0              1           1   \n",
       "172207           0           0                0              1           1   \n",
       "\n",
       "        source_Direct  source_Seo  new_user       age  total_pages_visited  \\\n",
       "241324              0           1         0  0.096774             0.500000   \n",
       "8976                0           1         0  0.354839             0.107143   \n",
       "299285              0           1         1  0.209677             0.142857   \n",
       "25048               0           1         0  0.096774             0.178571   \n",
       "200366              0           0         0  0.112903             0.464286   \n",
       "157026              0           1         0  0.225806             0.428571   \n",
       "71368               1           0         0  0.225806             0.214286   \n",
       "199664              0           1         1  0.322581             0.035714   \n",
       "190935              0           0         0  0.290323             0.107143   \n",
       "172207              0           0         1  0.145161             0.142857   \n",
       "\n",
       "        converted  \n",
       "241324          1  \n",
       "8976            0  \n",
       "299285          0  \n",
       "25048           0  \n",
       "200366          1  \n",
       "157026          1  \n",
       "71368           0  \n",
       "199664          0  \n",
       "190935          0  \n",
       "172207          0  "
      ]
     },
     "execution_count": 21,
     "metadata": {},
     "output_type": "execute_result"
    }
   ],
   "source": [
    "not_converted = not_converted.sample(n=len(converted))\n",
    "undersampled_train_data = pd.concat([converted, not_converted], axis=0)\n",
    "undersampled_train_data = undersampled_train_data.sample(frac=1)  #mix order\n",
    "undersampled_train_data.sample(10)"
   ]
  },
  {
   "cell_type": "code",
   "execution_count": 22,
   "metadata": {},
   "outputs": [
    {
     "name": "stdout",
     "output_type": "stream",
     "text": [
      "Distribution of the Classes in the subsample dataset\n",
      "0.5\n"
     ]
    },
    {
     "data": {
      "image/png": "[encoded data removed]",
      "text/plain": [
       "<Figure size 432x288 with 1 Axes>"
      ]
     },
     "metadata": {
      "needs_background": "light"
     },
     "output_type": "display_data"
    }
   ],
   "source": [
    "# Equally Distributing and Correlating\n",
    "print('Distribution of the Classes in the subsample dataset')\n",
    "print(undersampled_train_data['converted'].mean()) \n",
    "\n",
    "sns.countplot('converted', data=undersampled_train_data, palette=colors)\n",
    "plt.title('Equally Distributed Classes', fontsize=14)\n",
    "plt.show()"
   ]
  },
  {
   "cell_type": "markdown",
   "metadata": {},
   "source": [
    "### Correlation Matrices\n",
    "Correlation matrices are the essence of understanding our data. We want to know if there are features that influence heavily in whether a visitor is converted. However, it is important that we use the correct dataframe (subsample) in order for us to see which features have a high positive or negative correlation with regards to converted.\n",
    "\n",
    "\n",
    "**Summary and Explanation:**\n",
    "- **Negative Correlations:** country_China and new_user are negatively correlated. Notice how the lower these values are, the more likely the end result will be **converted.**\n",
    "- **Positive Correlations:** total_page_visited is positively correlated. Notice how the higher this value are, the more likely the end result will be **converted.**\n",
    "\n",
    "**Note:** We have to make sure we use the subsample in our correlation matrix or else our correlation matrix will be affected by the high imbalance between our classes. This occurs due to the high class imbalance in the original dataframe."
   ]
  },
  {
   "cell_type": "code",
   "execution_count": 86,
   "metadata": {},
   "outputs": [
    {
     "data": {
      "text/plain": [
       "Text(0.5, 1, 'Heatmap of Correlation - Train set after undersamplin')"
      ]
     },
     "execution_count": 86,
     "metadata": {},
     "output_type": "execute_result"
    },
    {
     "data": {
      "image/png": "[encoded data removed]",
      "text/plain": [
       "<Figure size 1440x432 with 2 Axes>"
      ]
     },
     "metadata": {
      "needs_background": "light"
     },
     "output_type": "display_data"
    },
    {
     "data": {
      "image/png": "[encoded data removed]",
      "text/plain": [
       "<Figure size 1440x432 with 2 Axes>"
      ]
     },
     "metadata": {
      "needs_background": "light"
     },
     "output_type": "display_data"
    }
   ],
   "source": [
    "#heatmap\n",
    "corr = train_data.corr()\n",
    "plt.figure(figsize=(20,6))\n",
    "heat = sns.heatmap(data=corr,cmap='coolwarm_r')\n",
    "plt.title('Heatmap of Correlation - Train set without undersampling')\n",
    "\n",
    "corr = undersampled_train_data.corr()\n",
    "plt.figure(figsize=(20,6))\n",
    "heat = sns.heatmap(data=corr,cmap='coolwarm_r')\n",
    "plt.title('Heatmap of Correlation - Train set after undersamplin')"
   ]
  },
  {
   "cell_type": "markdown",
   "metadata": {},
   "source": [
    "### Model evaluation for orginal data"
   ]
  },
  {
   "cell_type": "code",
   "execution_count": 69,
   "metadata": {},
   "outputs": [],
   "source": [
    "def print_results(headline, true_value, pred):\n",
    "    print(headline)  \n",
    "    print(\"accuracy: {}\".format(round(accuracy_score(true_value, pred),2)*100))\n",
    "    #print(\"ROC: {}\".format(round(roc_auc_score(true_value, pred),2)*100))    \n",
    "    print(\"precision: {}\".format(round(precision_score(true_value, pred),2)*100))\n",
    "    print(\"recall: {}\".format(round(recall_score(true_value, pred),2)*100))\n",
    "    print(\"f1: {}\".format(round(f1_score(true_value, pred),2)*100))"
   ]
  },
  {
   "cell_type": "code",
   "execution_count": 88,
   "metadata": {
    "scrolled": false
   },
   "outputs": [],
   "source": [
    "#Cross Validation\n",
    "## Use GridSearchCV to find the best parameters.\n",
    "LR_params = {\"penalty\": ['l1', 'l2'], 'C': [0.001, 0.01, 0.1, 1, 10, 100, 1000]}\n",
    "grid_LR = GridSearchCV(LogisticRegression(), LR_params)\n",
    "grid_LR.fit(X_train, Y_train)\n",
    "## We automatically get the logistic regression with the best parameters.\n",
    "LR = grid_LR.best_estimator_\n",
    "\n",
    "# DecisionTree Classifier\n",
    "TREE_params = {\"criterion\": [\"gini\", \"entropy\"], \"max_depth\": list(range(2,5,1)), \n",
    "              \"min_samples_leaf\": list(range(5,7,1))}\n",
    "grid_TREE = GridSearchCV(DecisionTreeClassifier(), TREE_params)\n",
    "grid_TREE.fit(X_train, Y_train)\n",
    "# tree best estimator\n",
    "TREE= grid_TREE.best_estimator_"
   ]
  },
  {
   "cell_type": "code",
   "execution_count": 89,
   "metadata": {},
   "outputs": [
    {
     "name": "stdout",
     "output_type": "stream",
     "text": [
      "Logistic Regression CV Score:  98.6 %\n",
      "DecisionTree CV Score 98.5 %\n"
     ]
    }
   ],
   "source": [
    "LR_score = cross_val_score(LR, X_train, Y_train, cv=10)\n",
    "print('Logistic Regression CV Score: ', round(LR_score.mean(), 3) * 100,'%')\n",
    "TREE_score = cross_val_score(TREE, X_train, Y_train, cv=10)\n",
    "print('DecisionTree CV Score', round(TREE_score.mean(), 3)* 100,'%')"
   ]
  },
  {
   "cell_type": "code",
   "execution_count": 97,
   "metadata": {},
   "outputs": [
    {
     "name": "stdout",
     "output_type": "stream",
     "text": [
      "Logistic Regression:\n",
      "accuracy: 99.0\n",
      "precision: 86.0\n",
      "recall: 68.0\n",
      "f1: 76.0\n",
      "--------------------\n",
      "DecisionTree:\n",
      "accuracy: 99.0\n",
      "precision: 82.0\n",
      "recall: 69.0\n",
      "f1: 75.0\n"
     ]
    }
   ],
   "source": [
    "#testing set\n",
    "Y_pred_log_reg = log_reg.predict(X_test)\n",
    "print_results(\"Logistic Regression:\", Y_test, Y_pred_log_reg)\n",
    "print('-'*20)  \n",
    "Y_pred_tree = tree_clf.predict(X_test)\n",
    "print_results(\"DecisionTree:\", Y_test, Y_pred_tree)"
   ]
  },
  {
   "cell_type": "code",
   "execution_count": 91,
   "metadata": {},
   "outputs": [
    {
     "data": {
      "text/plain": [
       "<matplotlib.axes._subplots.AxesSubplot at 0x1a1c63bbe0>"
      ]
     },
     "execution_count": 91,
     "metadata": {},
     "output_type": "execute_result"
    },
    {
     "data": {
      "image/png": "[encoded data removed]",
      "text/plain": [
       "<Figure size 864x864 with 4 Axes>"
      ]
     },
     "metadata": {
      "needs_background": "light"
     },
     "output_type": "display_data"
    }
   ],
   "source": [
    "fig, ax = plt.subplots(nrows=2, ncols=1, figsize=(12, 12))\n",
    "sns.heatmap(confusion_matrix(Y_test,Y_pred_log_reg),annot=True,fmt='2.0f',ax=ax[0])\n",
    "sns.heatmap(confusion_matrix(Y_test,Y_pred_tree),annot=True,fmt='2.0f',ax=ax[1])"
   ]
  },
  {
   "cell_type": "markdown",
   "metadata": {},
   "source": [
    "### Model evaluation for data after undersampling"
   ]
  },
  {
   "cell_type": "code",
   "execution_count": 92,
   "metadata": {},
   "outputs": [],
   "source": [
    "train_x = undersampled_train_data.drop('converted', axis=1)\n",
    "train_y = undersampled_train_data['converted']\n",
    "test_x = test_data.drop('converted', axis=1)\n",
    "test_y = test_data['converted']\n",
    "#(Lower x y)\n",
    "train_x = train_x.values\n",
    "train_y = train_y.values\n",
    "test_x = test_x.values\n",
    "test_y = test_y.values"
   ]
  },
  {
   "cell_type": "code",
   "execution_count": 93,
   "metadata": {},
   "outputs": [
    {
     "name": "stdout",
     "output_type": "stream",
     "text": [
      "Logistic Regression CV Score:  94.0 %\n",
      "DecisionTree CV Score 93.5 %\n"
     ]
    }
   ],
   "source": [
    "#Cross Validation\n",
    "## Use GridSearchCV to find the best parameters.\n",
    "lr_params = {\"penalty\": ['l1', 'l2'], 'C': [0.001, 0.01, 0.1, 1, 10, 100, 1000]}\n",
    "grid_lr = GridSearchCV(LogisticRegression(), LR_params)\n",
    "grid_lr.fit(train_x, train_y)\n",
    "## We automatically get the logistic regression with the best parameters.\n",
    "lr = grid_lr.best_estimator_\n",
    "\n",
    "# DecisionTree Classifier\n",
    "tree_params = {\"criterion\": [\"gini\", \"entropy\"], \"max_depth\": list(range(2,5,1)), \n",
    "              \"min_samples_leaf\": list(range(5,7,1))}\n",
    "grid_tree = GridSearchCV(DecisionTreeClassifier(), tree_params)\n",
    "grid_tree.fit(train_x, train_y)\n",
    "# tree best estimator\n",
    "tree= grid_tree.best_estimator_\n",
    "\n",
    "lr_score = cross_val_score(lr, train_x, train_y, cv=10)\n",
    "print('Logistic Regression CV Score: ', round(lr_score.mean(), 3) * 100,'%')\n",
    "tree_score = cross_val_score(tree, train_x, train_y, cv=10)\n",
    "print('DecisionTree CV Score', round(tree_score.mean(), 3)* 100,'%')"
   ]
  },
  {
   "cell_type": "code",
   "execution_count": 96,
   "metadata": {},
   "outputs": [
    {
     "name": "stdout",
     "output_type": "stream",
     "text": [
      "Logistic Regression:\n",
      "accuracy: 94.0\n",
      "precision: 35.0\n",
      "recall: 94.0\n",
      "f1: 51.0\n",
      "--------------------\n",
      "DecisionTree:\n",
      "accuracy: 93.0\n",
      "precision: 32.0\n",
      "recall: 94.0\n",
      "f1: 48.0\n"
     ]
    }
   ],
   "source": [
    "#testing set\n",
    "y_pred_log_reg = lr.predict(test_x)\n",
    "print_results(\"Logistic Regression:\", test_y, y_pred_log_reg)\n",
    "print('-'*20)  \n",
    "y_pred_tree = tree.predict(test_x)\n",
    "print_results(\"DecisionTree:\", test_y, y_pred_tree)"
   ]
  },
  {
   "cell_type": "code",
   "execution_count": 98,
   "metadata": {},
   "outputs": [
    {
     "data": {
      "text/plain": [
       "<matplotlib.axes._subplots.AxesSubplot at 0x1a1c5239e8>"
      ]
     },
     "execution_count": 98,
     "metadata": {},
     "output_type": "execute_result"
    },
    {
     "data": {
      "image/png": "[encoded data removed]",
      "text/plain": [
       "<Figure size 864x864 with 4 Axes>"
      ]
     },
     "metadata": {
      "needs_background": "light"
     },
     "output_type": "display_data"
    }
   ],
   "source": [
    "fig, ax = plt.subplots(nrows=2, ncols=1, figsize=(12, 12))\n",
    "sns.heatmap(confusion_matrix(test_y, y_pred_log_reg),annot=True,fmt='2.0f',ax=ax[0])\n",
    "sns.heatmap(confusion_matrix(test_y, y_pred_tree),annot=True,fmt='2.0f',ax=ax[1])"
   ]
  },
  {
   "cell_type": "code",
   "execution_count": 105,
   "metadata": {
    "scrolled": false
   },
   "outputs": [
    {
     "data": {
      "image/png": "[encoded data removed]",
      "text/plain": [
       "<Figure size 720x720 with 1 Axes>"
      ]
     },
     "metadata": {
      "needs_background": "light"
     },
     "output_type": "display_data"
    }
   ],
   "source": [
    "#LR\n",
    "LR_Y_pred=LR.predict_proba(X_test)[:,1]\n",
    "LR_test_auc= roc_auc_score(Y_test,LR_Y_pred)\n",
    "LR_test_fpr, LR_test_tpr,_ = roc_curve(Y_test,LR_Y_pred)\n",
    "\n",
    "lr_y_pred=lr.predict_proba(test_x)[:,1]\n",
    "lr_ttauc= roc_auc_score(test_y,lr_y_pred)\n",
    "lr_tt_fpr, lr_tt_tpr, _ = roc_curve(test_y,lr_y_pred)\n",
    "\n",
    "#tree\n",
    "TREE_Y_pred=TREE.predict_proba(X_test)[:,1]\n",
    "TREE_test_auc= roc_auc_score(Y_test,TREE_Y_pred)\n",
    "TREE_test_fpr, TREE_test_tpr,_ = roc_curve(Y_test,TREE_Y_pred)\n",
    "\n",
    "tree_y_pred=tree.predict_proba(test_x)[:,1]\n",
    "tree_ttauc= roc_auc_score(test_y,tree_y_pred)\n",
    "tree_tt_fpr, tree_tt_tpr, _ = roc_curve(test_y,tree_y_pred)\n",
    "\n",
    "plt.figure(figsize=(10,10))\n",
    "plt.plot(LR_test_fpr, LR_test_tpr, label='LR Original Test ROC (area = %0.3f)'%LR_test_auc)\n",
    "plt.plot(lr_tt_fpr, lr_tt_tpr, label='lr Undersampling Test ROC (area = %0.3f)'%lr_ttauc)\n",
    "plt.plot(TREE_test_fpr, TREE_test_tpr, label='TREE Original Test ROC (area = %0.3f)'%TREE_test_auc)\n",
    "plt.plot(tree_tt_fpr, tree_tt_tpr, label='tree Undersampling Test ROC (area = %0.3f)'%tree_ttauc)\n",
    "plt.plot([0,1],[0,1],'r--')\n",
    "plt.xlabel('False Positive Rate', fontsize=12)\n",
    "plt.ylabel('True Positive Rate', fontsize=12)\n",
    "plt.legend(fontsize=12)\n",
    "plt.show()"
   ]
  },
  {
   "cell_type": "markdown",
   "metadata": {},
   "source": [
    "All result in good AUC, suggesting two classes from all dataset well-separated."
   ]
  },
  {
   "cell_type": "markdown",
   "metadata": {},
   "source": [
    "**high recall + low precision :** the class is well detected but the model also include points of other classes in it."
   ]
  },
  {
   "cell_type": "code",
   "execution_count": 127,
   "metadata": {
    "scrolled": true
   },
   "outputs": [
    {
     "name": "stdout",
     "output_type": "stream",
     "text": [
      "total_pages_visited    21.157098\n",
      "country_Germany         1.136185\n",
      "country_UK              0.892071\n",
      "country_US              0.566459\n",
      "source_Ads              0.051636\n",
      "source_Seo              0.035386\n",
      "source_Direct          -0.092506\n",
      "new_user               -1.737435\n",
      "country_China          -2.600201\n",
      "age                    -4.456390\n",
      "dtype: float64\n"
     ]
    },
    {
     "data": {
      "text/plain": [
       "<matplotlib.axes._subplots.AxesSubplot at 0x1a25adceb8>"
      ]
     },
     "execution_count": 127,
     "metadata": {},
     "output_type": "execute_result"
    },
    {
     "data": {
      "image/png": "[encoded data removed]",
      "text/plain": [
       "<Figure size 720x576 with 1 Axes>"
      ]
     },
     "metadata": {
      "needs_background": "light"
     },
     "output_type": "display_data"
    }
   ],
   "source": [
    "#Let's see what the important coefficients are:\n",
    "coef_columns = [x for x in X_tn.columns]\n",
    "varimp=pd.Series(LR.coef_.ravel(),coef_columns).sort_values(ascending=False)\n",
    "print(varimp)\n",
    "varimp.plot(kind='barh',figsize=(10,8))"
   ]
  },
  {
   "cell_type": "markdown",
   "metadata": {},
   "source": [
    "Dropped total_pages_visited: This attribute highly affects the output target. Yet, the total_pages_visited is not known before a user visit a website. Thus, this input should only be included for benchmark purposes and should be discarded if the intention is to have a realistic predictive model."
   ]
  },
  {
   "cell_type": "code",
   "execution_count": 107,
   "metadata": {},
   "outputs": [
    {
     "data": {
      "text/html": [
       "<div>\n",
       "<style scoped>\n",
       "    .dataframe tbody tr th:only-of-type {\n",
       "        vertical-align: middle;\n",
       "    }\n",
       "\n",
       "    .dataframe tbody tr th {\n",
       "        vertical-align: top;\n",
       "    }\n",
       "\n",
       "    .dataframe thead th {\n",
       "        text-align: right;\n",
       "    }\n",
       "</style>\n",
       "<table border=\"1\" class=\"dataframe\">\n",
       "  <thead>\n",
       "    <tr style=\"text-align: right;\">\n",
       "      <th></th>\n",
       "      <th>country_UK</th>\n",
       "      <th>country_US</th>\n",
       "      <th>country_Germany</th>\n",
       "      <th>country_China</th>\n",
       "      <th>source_Ads</th>\n",
       "      <th>source_Direct</th>\n",
       "      <th>source_Seo</th>\n",
       "      <th>new_user</th>\n",
       "      <th>age</th>\n",
       "      <th>converted</th>\n",
       "    </tr>\n",
       "  </thead>\n",
       "  <tbody>\n",
       "    <tr>\n",
       "      <th>0</th>\n",
       "      <td>1</td>\n",
       "      <td>0</td>\n",
       "      <td>0</td>\n",
       "      <td>0</td>\n",
       "      <td>1</td>\n",
       "      <td>0</td>\n",
       "      <td>0</td>\n",
       "      <td>1</td>\n",
       "      <td>0.129032</td>\n",
       "      <td>0</td>\n",
       "    </tr>\n",
       "    <tr>\n",
       "      <th>1</th>\n",
       "      <td>0</td>\n",
       "      <td>1</td>\n",
       "      <td>0</td>\n",
       "      <td>0</td>\n",
       "      <td>0</td>\n",
       "      <td>0</td>\n",
       "      <td>1</td>\n",
       "      <td>1</td>\n",
       "      <td>0.096774</td>\n",
       "      <td>0</td>\n",
       "    </tr>\n",
       "    <tr>\n",
       "      <th>2</th>\n",
       "      <td>0</td>\n",
       "      <td>1</td>\n",
       "      <td>0</td>\n",
       "      <td>0</td>\n",
       "      <td>0</td>\n",
       "      <td>0</td>\n",
       "      <td>1</td>\n",
       "      <td>1</td>\n",
       "      <td>0.177419</td>\n",
       "      <td>0</td>\n",
       "    </tr>\n",
       "    <tr>\n",
       "      <th>3</th>\n",
       "      <td>0</td>\n",
       "      <td>0</td>\n",
       "      <td>0</td>\n",
       "      <td>1</td>\n",
       "      <td>0</td>\n",
       "      <td>0</td>\n",
       "      <td>1</td>\n",
       "      <td>1</td>\n",
       "      <td>0.354839</td>\n",
       "      <td>0</td>\n",
       "    </tr>\n",
       "    <tr>\n",
       "      <th>4</th>\n",
       "      <td>0</td>\n",
       "      <td>1</td>\n",
       "      <td>0</td>\n",
       "      <td>0</td>\n",
       "      <td>0</td>\n",
       "      <td>0</td>\n",
       "      <td>1</td>\n",
       "      <td>1</td>\n",
       "      <td>0.209677</td>\n",
       "      <td>0</td>\n",
       "    </tr>\n",
       "  </tbody>\n",
       "</table>\n",
       "</div>"
      ],
      "text/plain": [
       "   country_UK  country_US  country_Germany  country_China  source_Ads  \\\n",
       "0           1           0                0              0           1   \n",
       "1           0           1                0              0           0   \n",
       "2           0           1                0              0           0   \n",
       "3           0           0                0              1           0   \n",
       "4           0           1                0              0           0   \n",
       "\n",
       "   source_Direct  source_Seo  new_user       age  converted  \n",
       "0              0           0         1  0.129032          0  \n",
       "1              0           1         1  0.096774          0  \n",
       "2              0           1         1  0.177419          0  \n",
       "3              0           1         1  0.354839          0  \n",
       "4              0           1         1  0.209677          0  "
      ]
     },
     "execution_count": 107,
     "metadata": {},
     "output_type": "execute_result"
    }
   ],
   "source": [
    "#drop total_pages_visited\n",
    "#Splitting the Data (Original DataFrame)  (Capital X Y)\n",
    "df_nopage=dfd.drop(columns=['total_pages_visited'])\n",
    "df_nopage.head()"
   ]
  },
  {
   "cell_type": "code",
   "execution_count": 113,
   "metadata": {},
   "outputs": [
    {
     "name": "stdout",
     "output_type": "stream",
     "text": [
      "0.03227413246467793 0.03216318785578748\n"
     ]
    }
   ],
   "source": [
    "X_nopage=df_nopage[df_nopage.columns[:-1]]\n",
    "Y_nopage=df_nopage['converted']\n",
    "X_nopage_tn, X_nopage_tt, Y_nopage_tn, Y_nopage_tt = train_test_split(X_nopage, Y_nopage, test_size=0.2)\n",
    "# Turn into an array\n",
    "X_nopage_train = X_nopage_tn.values\n",
    "X_nopage_test = X_nopage_tt.values\n",
    "Y_nopage_train = Y_nopage_tn.values\n",
    "Y_nopage_test = Y_nopage_tt.values\n",
    "\n",
    "print(Y_nopage_train.mean(),Y_nopage_test.mean())"
   ]
  },
  {
   "cell_type": "code",
   "execution_count": 117,
   "metadata": {},
   "outputs": [
    {
     "name": "stdout",
     "output_type": "stream",
     "text": [
      "8164 244794\n"
     ]
    }
   ],
   "source": [
    "train_nopage_data = pd.concat([X_nopage_tn, Y_nopage_tn], axis=1)\n",
    "test_nopage_data = pd.concat([X_nopage_tt, Y_nopage_tt], axis=1)\n",
    "Converted = train_nopage_data[train_nopage_data.converted==1]\n",
    "Not_converted = train_nopage_data[train_nopage_data.converted==0]\n",
    "print(len(Converted),len(Not_converted))"
   ]
  },
  {
   "cell_type": "code",
   "execution_count": 118,
   "metadata": {
    "scrolled": true
   },
   "outputs": [
    {
     "data": {
      "text/html": [
       "<div>\n",
       "<style scoped>\n",
       "    .dataframe tbody tr th:only-of-type {\n",
       "        vertical-align: middle;\n",
       "    }\n",
       "\n",
       "    .dataframe tbody tr th {\n",
       "        vertical-align: top;\n",
       "    }\n",
       "\n",
       "    .dataframe thead th {\n",
       "        text-align: right;\n",
       "    }\n",
       "</style>\n",
       "<table border=\"1\" class=\"dataframe\">\n",
       "  <thead>\n",
       "    <tr style=\"text-align: right;\">\n",
       "      <th></th>\n",
       "      <th>country_UK</th>\n",
       "      <th>country_US</th>\n",
       "      <th>country_Germany</th>\n",
       "      <th>country_China</th>\n",
       "      <th>source_Ads</th>\n",
       "      <th>source_Direct</th>\n",
       "      <th>source_Seo</th>\n",
       "      <th>new_user</th>\n",
       "      <th>age</th>\n",
       "      <th>converted</th>\n",
       "    </tr>\n",
       "  </thead>\n",
       "  <tbody>\n",
       "    <tr>\n",
       "      <th>258819</th>\n",
       "      <td>0</td>\n",
       "      <td>1</td>\n",
       "      <td>0</td>\n",
       "      <td>0</td>\n",
       "      <td>1</td>\n",
       "      <td>0</td>\n",
       "      <td>0</td>\n",
       "      <td>0</td>\n",
       "      <td>0.032258</td>\n",
       "      <td>0</td>\n",
       "    </tr>\n",
       "    <tr>\n",
       "      <th>178393</th>\n",
       "      <td>0</td>\n",
       "      <td>0</td>\n",
       "      <td>0</td>\n",
       "      <td>1</td>\n",
       "      <td>1</td>\n",
       "      <td>0</td>\n",
       "      <td>0</td>\n",
       "      <td>1</td>\n",
       "      <td>0.161290</td>\n",
       "      <td>0</td>\n",
       "    </tr>\n",
       "    <tr>\n",
       "      <th>284581</th>\n",
       "      <td>1</td>\n",
       "      <td>0</td>\n",
       "      <td>0</td>\n",
       "      <td>0</td>\n",
       "      <td>1</td>\n",
       "      <td>0</td>\n",
       "      <td>0</td>\n",
       "      <td>1</td>\n",
       "      <td>0.048387</td>\n",
       "      <td>1</td>\n",
       "    </tr>\n",
       "    <tr>\n",
       "      <th>285320</th>\n",
       "      <td>0</td>\n",
       "      <td>1</td>\n",
       "      <td>0</td>\n",
       "      <td>0</td>\n",
       "      <td>0</td>\n",
       "      <td>1</td>\n",
       "      <td>0</td>\n",
       "      <td>1</td>\n",
       "      <td>0.258065</td>\n",
       "      <td>0</td>\n",
       "    </tr>\n",
       "    <tr>\n",
       "      <th>49670</th>\n",
       "      <td>0</td>\n",
       "      <td>1</td>\n",
       "      <td>0</td>\n",
       "      <td>0</td>\n",
       "      <td>1</td>\n",
       "      <td>0</td>\n",
       "      <td>0</td>\n",
       "      <td>1</td>\n",
       "      <td>0.161290</td>\n",
       "      <td>1</td>\n",
       "    </tr>\n",
       "    <tr>\n",
       "      <th>154224</th>\n",
       "      <td>0</td>\n",
       "      <td>1</td>\n",
       "      <td>0</td>\n",
       "      <td>0</td>\n",
       "      <td>1</td>\n",
       "      <td>0</td>\n",
       "      <td>0</td>\n",
       "      <td>1</td>\n",
       "      <td>0.306452</td>\n",
       "      <td>0</td>\n",
       "    </tr>\n",
       "    <tr>\n",
       "      <th>164092</th>\n",
       "      <td>0</td>\n",
       "      <td>1</td>\n",
       "      <td>0</td>\n",
       "      <td>0</td>\n",
       "      <td>0</td>\n",
       "      <td>0</td>\n",
       "      <td>1</td>\n",
       "      <td>0</td>\n",
       "      <td>0.096774</td>\n",
       "      <td>0</td>\n",
       "    </tr>\n",
       "    <tr>\n",
       "      <th>253910</th>\n",
       "      <td>0</td>\n",
       "      <td>0</td>\n",
       "      <td>1</td>\n",
       "      <td>0</td>\n",
       "      <td>0</td>\n",
       "      <td>0</td>\n",
       "      <td>1</td>\n",
       "      <td>0</td>\n",
       "      <td>0.177419</td>\n",
       "      <td>1</td>\n",
       "    </tr>\n",
       "    <tr>\n",
       "      <th>152402</th>\n",
       "      <td>0</td>\n",
       "      <td>1</td>\n",
       "      <td>0</td>\n",
       "      <td>0</td>\n",
       "      <td>0</td>\n",
       "      <td>0</td>\n",
       "      <td>1</td>\n",
       "      <td>0</td>\n",
       "      <td>0.048387</td>\n",
       "      <td>1</td>\n",
       "    </tr>\n",
       "    <tr>\n",
       "      <th>14909</th>\n",
       "      <td>1</td>\n",
       "      <td>0</td>\n",
       "      <td>0</td>\n",
       "      <td>0</td>\n",
       "      <td>0</td>\n",
       "      <td>0</td>\n",
       "      <td>1</td>\n",
       "      <td>0</td>\n",
       "      <td>0.354839</td>\n",
       "      <td>1</td>\n",
       "    </tr>\n",
       "  </tbody>\n",
       "</table>\n",
       "</div>"
      ],
      "text/plain": [
       "        country_UK  country_US  country_Germany  country_China  source_Ads  \\\n",
       "258819           0           1                0              0           1   \n",
       "178393           0           0                0              1           1   \n",
       "284581           1           0                0              0           1   \n",
       "285320           0           1                0              0           0   \n",
       "49670            0           1                0              0           1   \n",
       "154224           0           1                0              0           1   \n",
       "164092           0           1                0              0           0   \n",
       "253910           0           0                1              0           0   \n",
       "152402           0           1                0              0           0   \n",
       "14909            1           0                0              0           0   \n",
       "\n",
       "        source_Direct  source_Seo  new_user       age  converted  \n",
       "258819              0           0         0  0.032258          0  \n",
       "178393              0           0         1  0.161290          0  \n",
       "284581              0           0         1  0.048387          1  \n",
       "285320              1           0         1  0.258065          0  \n",
       "49670               0           0         1  0.161290          1  \n",
       "154224              0           0         1  0.306452          0  \n",
       "164092              0           1         0  0.096774          0  \n",
       "253910              0           1         0  0.177419          1  \n",
       "152402              0           1         0  0.048387          1  \n",
       "14909               0           1         0  0.354839          1  "
      ]
     },
     "execution_count": 118,
     "metadata": {},
     "output_type": "execute_result"
    }
   ],
   "source": [
    "Not_converted = Not_converted.sample(n=len(Converted))\n",
    "us_train_data = pd.concat([Converted, Not_converted], axis=0)\n",
    "us_train_data = us_train_data.sample(frac=1)  #mix order\n",
    "us_train_data.sample(10)"
   ]
  },
  {
   "cell_type": "code",
   "execution_count": 119,
   "metadata": {},
   "outputs": [],
   "source": [
    "tn_x = us_train_data.drop('converted', axis=1)\n",
    "tn_y = us_train_data['converted']\n",
    "tt_x = test_nopage_data.drop('converted', axis=1)\n",
    "tt_y = test_nopage_data['converted']"
   ]
  },
  {
   "cell_type": "code",
   "execution_count": 122,
   "metadata": {},
   "outputs": [
    {
     "name": "stdout",
     "output_type": "stream",
     "text": [
      "Logistic Regression CV Score:  74.0 %\n",
      "DecisionTree CV Score 74.0 %\n",
      "Logistic Regression:\n",
      "accuracy: 73.0\n",
      "precision: 9.0\n",
      "recall: 77.0\n",
      "f1: 16.0\n",
      "--------------------\n",
      "DecisionTree:\n",
      "accuracy: 68.0\n",
      "precision: 8.0\n",
      "recall: 81.0\n",
      "f1: 14.000000000000002\n"
     ]
    }
   ],
   "source": [
    "#Cross Validation\n",
    "## Use GridSearchCV to find the best parameters.\n",
    "LR_nopage_params = {\"penalty\": ['l1', 'l2'], 'C': [0.001, 0.01, 0.1, 1, 10, 100, 1000]}\n",
    "grid_nopage_LR = GridSearchCV(LogisticRegression(), LR_params)\n",
    "grid_nopage_LR.fit(tn_x,tn_y)\n",
    "## We automatically get the logistic regression with the best parameters.\n",
    "LR_nopage = grid_nopage_LR.best_estimator_\n",
    "\n",
    "# DecisionTree Classifier\n",
    "TREE_nopage_params = {\"criterion\": [\"gini\", \"entropy\"], \"max_depth\": list(range(2,5,1)), \n",
    "              \"min_samples_leaf\": list(range(5,7,1))}\n",
    "grid_nopage_TREE = GridSearchCV(DecisionTreeClassifier(), TREE_nopage_params)\n",
    "grid_nopage_TREE.fit(tn_x,tn_y)\n",
    "# tree best estimator\n",
    "TREE_nopage= grid_nopage_TREE.best_estimator_\n",
    "\n",
    "lr_nopage_score = cross_val_score(LR_nopage, tn_x, tn_y, cv=10)\n",
    "print('Logistic Regression CV Score: ', round(lr_nopage_score.mean(), 3) * 100,'%')\n",
    "tree_nopage_score = cross_val_score(TREE_nopage, tn_x, tn_y, cv=10)\n",
    "print('DecisionTree CV Score', round(lr_nopage_score.mean(), 3)* 100,'%')\n",
    "\n",
    "#testing set\n",
    "y_plg = LR_nopage.predict(tt_x)\n",
    "print_results(\"Logistic Regression:\", tt_y, y_plg)\n",
    "print('-'*20)  \n",
    "y_pt = TREE_nopage.predict(tt_x)\n",
    "print_results(\"DecisionTree:\", tt_y, y_pt)"
   ]
  },
  {
   "cell_type": "markdown",
   "metadata": {},
   "source": [
    "After drop \"toal_pages_visited\", the model performance is poor is all measurements."
   ]
  },
  {
   "cell_type": "markdown",
   "metadata": {},
   "source": [
    "## Results\n",
    "Here I list the main insights gleaned from my analysis and some associated recommendations.\n",
    "\n",
    "- **Chinese users are hard to convert.**\\\n",
    "This could be just due to translation or cultural issues. Either way, considering how many potential users are in China I'd recommend the UX department take a look at ways to improve it.\n",
    "- **German users are relatively easy to convert.**\\\n",
    "Something is going very right with German users and so a little more focus on these users could have a large effect! This could be something for both UX and marketing to look into.\n",
    "- **Users with an older account are more likely to convert than users with newer accounts.**\\\n",
    "Since they're already in the system, perhaps some targeted emails with offers to bring them back to the site could better capture their conversion potential.\n",
    "- **Young people are much more likely to convert than older people.**\\\n",
    "UX department may want to look into why people 30+ perform so poorly.\n",
    "- **Existing marketing channels do not have a significant effect one way or the other.**\\\n",
    "Considering that the site does well with younger users, development of new marketing channels should be done specifically so that they are aimed at reaching younger people.\n",
    "\n",
    "If a user has visited many pages but hasn't yet converted, they very likely could have a high purchase intent. Perhaps such users could be sent targeted email offers or reminders."
   ]
  }
 ],
 "metadata": {
  "kernelspec": {
   "display_name": "Python 3",
   "language": "python",
   "name": "python3"
  },
  "language_info": {
   "codemirror_mode": {
    "name": "ipython",
    "version": 3
   },
   "file_extension": ".py",
   "mimetype": "text/x-python",
   "name": "python",
   "nbconvert_exporter": "python",
   "pygments_lexer": "ipython3",
   "version": "3.7.6"
  }
 },
 "nbformat": 4,
 "nbformat_minor": 2
}
