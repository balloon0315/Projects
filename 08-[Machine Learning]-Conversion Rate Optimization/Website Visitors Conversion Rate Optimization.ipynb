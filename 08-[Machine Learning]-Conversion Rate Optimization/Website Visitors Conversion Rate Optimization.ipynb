{
 "cells": [
  {
   "cell_type": "markdown",
   "metadata": {},
   "source": [
    "# Website Visitors Conversion Rate Optimization (CRO)\n",
    "    Ruixie Fang\n",
    "    \n",
    "### Goal\n",
    "\n",
    "Optimizing conversion rate is likely the most common work of a data scientist, and rightfully so.\n",
    "\n",
    "The data revolution has a lot to do with the fact that now we are able to collect all sorts of data about people who buy something on our site as well as people who don't. This gives us a tremendous opportunity to understand what's working well (and potentially scale it even further) and what's not working well (and ﬁx it).\n",
    "\n",
    "The goal of this challenge is to build a model that predicts conversion rate and, based on the model, come up with ideas to improve re]enue.\n",
    "\n",
    "This challenge is signiﬁcantly easier than all others in this collection. There are no dates, no tables to join, no feature engineering required, and the problem is really straightforward. Therefore, it is a great starting point to get familiar with data science take\u0014home challenges.\n",
    "\n",
    "### Challenge Description\n",
    "\n",
    "We have data about users who hit our site: whether they converted or not as well as some of their characteristics such as their country, the marketing channel, their age, whether they are repeat users and the number of pages visited during that session (as a proxy for site activity/time spent on site).\n",
    "\n",
    "Your project is to:\n",
    "\n",
    "   - Predict conversion rate\n",
    "\n",
    "   - Come up with recommendations for the product team and the marketing team to improve conversion rate.\n",
    "\n",
    "### Columns:\n",
    "\n",
    "- country : user country based on the IP address \n",
    "- age : user age. Self-reported at sign-in step \n",
    "- new_user : whether the user created the account during this session or had already an account and simply came back to the site \n",
    "- source : marketing channel source:\n",
    "    - Ads: came to the site by clicking on an advertisement\n",
    "    - Seo: came to the site by clicking on search results\n",
    "    - Direct: came to the site by directly typing the URL on the browser \n",
    "- total_pages_visited: number of total pages visited during the session. This is a proxy for time spent on site and engagement during the session.\n",
    "- converted: this is our label. 1 means they converted within the session, 0 means they left without buying anything. The company goal is to increase conversion rate: # conversions / total sessions."
   ]
  },
  {
   "cell_type": "code",
   "execution_count": 116,
   "metadata": {},
   "outputs": [],
   "source": [
    "# Analysis imports\n",
    "import numpy as np\n",
    "import pandas as pd\n",
    "\n",
    "# Visualization imports\n",
    "import seaborn as sns\n",
    "import matplotlib.pyplot as plt\n",
    "%matplotlib inline\n",
    "\n",
    "# ML imports\n",
    "import h2o\n",
    "from h2o.frame import H2OFrame\n",
    "from h2o.estimators.random_forest import H2ORandomForestEstimator\n",
    "from h2o.grid.grid_search import H2OGridSearch\n",
    "\n",
    "from sklearn.metrics import classification_report, roc_auc_score, roc_curve\n",
    "\n",
    "from sklearn import preprocessing\n",
    "from sklearn import train_test_split\n",
    "from sklearn.ensemble import RandomForestClassifier\n",
    "from sklearn.model_selection import KFold #for K-fold cross validation\n",
    "from sklearn.model_selection import cross_val_score #score evaluation\n",
    "from sklearn.model_selection import cross_val_predict #prediction\n",
    "from sklearn.metrics import confusion_matrix\n",
    "\n",
    "# Miscellaneous imports\n",
    "import warnings\n",
    "warnings.simplefilter('ignore')\n"
   ]
  },
  {
   "cell_type": "markdown",
   "metadata": {},
   "source": [
    "## Import data and Basic Descriptive Analysis\n",
    "- Variable Types / Missing value/ Outliers."
   ]
  },
  {
   "cell_type": "code",
   "execution_count": 85,
   "metadata": {},
   "outputs": [
    {
     "data": {
      "text/html": [
       "<div>\n",
       "<style scoped>\n",
       "    .dataframe tbody tr th:only-of-type {\n",
       "        vertical-align: middle;\n",
       "    }\n",
       "\n",
       "    .dataframe tbody tr th {\n",
       "        vertical-align: top;\n",
       "    }\n",
       "\n",
       "    .dataframe thead th {\n",
       "        text-align: right;\n",
       "    }\n",
       "</style>\n",
       "<table border=\"1\" class=\"dataframe\">\n",
       "  <thead>\n",
       "    <tr style=\"text-align: right;\">\n",
       "      <th></th>\n",
       "      <th>country</th>\n",
       "      <th>age</th>\n",
       "      <th>new_user</th>\n",
       "      <th>source</th>\n",
       "      <th>total_pages_visited</th>\n",
       "      <th>converted</th>\n",
       "    </tr>\n",
       "  </thead>\n",
       "  <tbody>\n",
       "    <tr>\n",
       "      <th>300437</th>\n",
       "      <td>US</td>\n",
       "      <td>21</td>\n",
       "      <td>1</td>\n",
       "      <td>Ads</td>\n",
       "      <td>4</td>\n",
       "      <td>0</td>\n",
       "    </tr>\n",
       "    <tr>\n",
       "      <th>24607</th>\n",
       "      <td>China</td>\n",
       "      <td>17</td>\n",
       "      <td>1</td>\n",
       "      <td>Seo</td>\n",
       "      <td>4</td>\n",
       "      <td>0</td>\n",
       "    </tr>\n",
       "    <tr>\n",
       "      <th>304866</th>\n",
       "      <td>US</td>\n",
       "      <td>24</td>\n",
       "      <td>0</td>\n",
       "      <td>Seo</td>\n",
       "      <td>1</td>\n",
       "      <td>0</td>\n",
       "    </tr>\n",
       "    <tr>\n",
       "      <th>83101</th>\n",
       "      <td>China</td>\n",
       "      <td>36</td>\n",
       "      <td>0</td>\n",
       "      <td>Seo</td>\n",
       "      <td>3</td>\n",
       "      <td>0</td>\n",
       "    </tr>\n",
       "    <tr>\n",
       "      <th>183123</th>\n",
       "      <td>US</td>\n",
       "      <td>35</td>\n",
       "      <td>1</td>\n",
       "      <td>Seo</td>\n",
       "      <td>3</td>\n",
       "      <td>0</td>\n",
       "    </tr>\n",
       "    <tr>\n",
       "      <th>188796</th>\n",
       "      <td>US</td>\n",
       "      <td>39</td>\n",
       "      <td>0</td>\n",
       "      <td>Seo</td>\n",
       "      <td>2</td>\n",
       "      <td>0</td>\n",
       "    </tr>\n",
       "    <tr>\n",
       "      <th>77045</th>\n",
       "      <td>US</td>\n",
       "      <td>29</td>\n",
       "      <td>0</td>\n",
       "      <td>Ads</td>\n",
       "      <td>7</td>\n",
       "      <td>0</td>\n",
       "    </tr>\n",
       "    <tr>\n",
       "      <th>89235</th>\n",
       "      <td>UK</td>\n",
       "      <td>24</td>\n",
       "      <td>0</td>\n",
       "      <td>Seo</td>\n",
       "      <td>21</td>\n",
       "      <td>1</td>\n",
       "    </tr>\n",
       "    <tr>\n",
       "      <th>130261</th>\n",
       "      <td>US</td>\n",
       "      <td>45</td>\n",
       "      <td>0</td>\n",
       "      <td>Direct</td>\n",
       "      <td>5</td>\n",
       "      <td>0</td>\n",
       "    </tr>\n",
       "    <tr>\n",
       "      <th>137815</th>\n",
       "      <td>China</td>\n",
       "      <td>44</td>\n",
       "      <td>1</td>\n",
       "      <td>Ads</td>\n",
       "      <td>4</td>\n",
       "      <td>0</td>\n",
       "    </tr>\n",
       "  </tbody>\n",
       "</table>\n",
       "</div>"
      ],
      "text/plain": [
       "       country  age  new_user  source  total_pages_visited  converted\n",
       "300437      US   21         1     Ads                    4          0\n",
       "24607    China   17         1     Seo                    4          0\n",
       "304866      US   24         0     Seo                    1          0\n",
       "83101    China   36         0     Seo                    3          0\n",
       "183123      US   35         1     Seo                    3          0\n",
       "188796      US   39         0     Seo                    2          0\n",
       "77045       US   29         0     Ads                    7          0\n",
       "89235       UK   24         0     Seo                   21          1\n",
       "130261      US   45         0  Direct                    5          0\n",
       "137815   China   44         1     Ads                    4          0"
      ]
     },
     "execution_count": 85,
     "metadata": {},
     "output_type": "execute_result"
    }
   ],
   "source": [
    "df = pd.read_csv(\"conversion_project.csv\")\n",
    "df.sample(10)"
   ]
  },
  {
   "cell_type": "code",
   "execution_count": 40,
   "metadata": {},
   "outputs": [
    {
     "name": "stdout",
     "output_type": "stream",
     "text": [
      "<class 'pandas.core.frame.DataFrame'>\n",
      "RangeIndex: 316200 entries, 0 to 316199\n",
      "Data columns (total 6 columns):\n",
      "country                316200 non-null object\n",
      "age                    316200 non-null int64\n",
      "new_user               316200 non-null int64\n",
      "source                 316200 non-null object\n",
      "total_pages_visited    316200 non-null int64\n",
      "converted              316200 non-null int64\n",
      "dtypes: int64(4), object(2)\n",
      "memory usage: 14.5+ MB\n"
     ]
    }
   ],
   "source": [
    "df.info()"
   ]
  },
  {
   "cell_type": "code",
   "execution_count": 62,
   "metadata": {},
   "outputs": [
    {
     "name": "stdout",
     "output_type": "stream",
     "text": [
      "country                  4\t ['China', 'Germany', 'UK', 'US']\n",
      "age                     58\t [17, 18, 19, 20, 21]\n",
      "new_user                 2\t [0, 1]\n",
      "source                   3\t ['Ads', 'Direct', 'Seo']\n",
      "total_pages_visited     29\t [1, 2, 3, 4, 5]\n",
      "converted                2\t [0, 1]\n"
     ]
    }
   ],
   "source": [
    "for column in df.columns:\n",
    "    uniques = sorted(df[column].unique())\n",
    "    print('{0:20s} {1:5d}\\t'.format(column, len(uniques)), uniques[:5])"
   ]
  },
  {
   "cell_type": "markdown",
   "metadata": {},
   "source": [
    "**Categorical**: country, converted, new_user, source.   \\\n",
    "**Continous**: Age,total_pages_visited. \\\n",
    "Two features are strings (object), others are numeric."
   ]
  },
  {
   "cell_type": "code",
   "execution_count": 42,
   "metadata": {},
   "outputs": [
    {
     "name": "stdout",
     "output_type": "stream",
     "text": [
      "Columns with null values:\n",
      " country                0\n",
      "age                    0\n",
      "new_user               0\n",
      "source                 0\n",
      "total_pages_visited    0\n",
      "converted              0\n",
      "dtype: int64\n"
     ]
    }
   ],
   "source": [
    "#Check Missing values\n",
    "print('Columns with null values:\\n', df.isnull().sum())"
   ]
  },
  {
   "cell_type": "code",
   "execution_count": 43,
   "metadata": {},
   "outputs": [
    {
     "data": {
      "text/html": [
       "<div>\n",
       "<style scoped>\n",
       "    .dataframe tbody tr th:only-of-type {\n",
       "        vertical-align: middle;\n",
       "    }\n",
       "\n",
       "    .dataframe tbody tr th {\n",
       "        vertical-align: top;\n",
       "    }\n",
       "\n",
       "    .dataframe thead th {\n",
       "        text-align: right;\n",
       "    }\n",
       "</style>\n",
       "<table border=\"1\" class=\"dataframe\">\n",
       "  <thead>\n",
       "    <tr style=\"text-align: right;\">\n",
       "      <th></th>\n",
       "      <th>age</th>\n",
       "      <th>new_user</th>\n",
       "      <th>total_pages_visited</th>\n",
       "      <th>converted</th>\n",
       "    </tr>\n",
       "  </thead>\n",
       "  <tbody>\n",
       "    <tr>\n",
       "      <th>0</th>\n",
       "      <td>25</td>\n",
       "      <td>1</td>\n",
       "      <td>1</td>\n",
       "      <td>0</td>\n",
       "    </tr>\n",
       "    <tr>\n",
       "      <th>1</th>\n",
       "      <td>23</td>\n",
       "      <td>1</td>\n",
       "      <td>5</td>\n",
       "      <td>0</td>\n",
       "    </tr>\n",
       "    <tr>\n",
       "      <th>2</th>\n",
       "      <td>28</td>\n",
       "      <td>1</td>\n",
       "      <td>4</td>\n",
       "      <td>0</td>\n",
       "    </tr>\n",
       "    <tr>\n",
       "      <th>3</th>\n",
       "      <td>39</td>\n",
       "      <td>1</td>\n",
       "      <td>5</td>\n",
       "      <td>0</td>\n",
       "    </tr>\n",
       "    <tr>\n",
       "      <th>4</th>\n",
       "      <td>30</td>\n",
       "      <td>1</td>\n",
       "      <td>6</td>\n",
       "      <td>0</td>\n",
       "    </tr>\n",
       "  </tbody>\n",
       "</table>\n",
       "</div>"
      ],
      "text/plain": [
       "   age  new_user  total_pages_visited  converted\n",
       "0   25         1                    1          0\n",
       "1   23         1                    5          0\n",
       "2   28         1                    4          0\n",
       "3   39         1                    5          0\n",
       "4   30         1                    6          0"
      ]
     },
     "execution_count": 43,
     "metadata": {},
     "output_type": "execute_result"
    }
   ],
   "source": [
    "numeric_df=df._get_numeric_data()\n",
    "numeric_df.head()"
   ]
  },
  {
   "cell_type": "code",
   "execution_count": 44,
   "metadata": {
    "scrolled": false
   },
   "outputs": [
    {
     "data": {
      "text/plain": [
       "<seaborn.axisgrid.PairGrid at 0x1a2b2f3780>"
      ]
     },
     "execution_count": 44,
     "metadata": {},
     "output_type": "execute_result"
    },
    {
     "data": {
      "image/png": "[encoded data removed]",
      "text/plain": [
       "<Figure size 360x360 with 6 Axes>"
      ]
     },
     "metadata": {
      "needs_background": "light"
     },
     "output_type": "display_data"
    }
   ],
   "source": [
    "#Check outliers based on age and total_pages_visited\n",
    "df_num=df[[\"age\", \"total_pages_visited\"]]\n",
    "#use scatterplot and histogram to find outliers\n",
    "sns.pairplot(df_num)"
   ]
  },
  {
   "cell_type": "markdown",
   "metadata": {},
   "source": [
    "Typically, age should be below 100. These two obvious point(>100) can be identified as outliers and removed."
   ]
  },
  {
   "cell_type": "code",
   "execution_count": 45,
   "metadata": {
    "scrolled": true
   },
   "outputs": [
    {
     "data": {
      "text/html": [
       "<div>\n",
       "<style scoped>\n",
       "    .dataframe tbody tr th:only-of-type {\n",
       "        vertical-align: middle;\n",
       "    }\n",
       "\n",
       "    .dataframe tbody tr th {\n",
       "        vertical-align: top;\n",
       "    }\n",
       "\n",
       "    .dataframe thead th {\n",
       "        text-align: right;\n",
       "    }\n",
       "</style>\n",
       "<table border=\"1\" class=\"dataframe\">\n",
       "  <thead>\n",
       "    <tr style=\"text-align: right;\">\n",
       "      <th></th>\n",
       "      <th>country</th>\n",
       "      <th>age</th>\n",
       "      <th>new_user</th>\n",
       "      <th>source</th>\n",
       "      <th>total_pages_visited</th>\n",
       "      <th>converted</th>\n",
       "    </tr>\n",
       "  </thead>\n",
       "  <tbody>\n",
       "    <tr>\n",
       "      <th>90928</th>\n",
       "      <td>Germany</td>\n",
       "      <td>123</td>\n",
       "      <td>0</td>\n",
       "      <td>Seo</td>\n",
       "      <td>15</td>\n",
       "      <td>1</td>\n",
       "    </tr>\n",
       "    <tr>\n",
       "      <th>295581</th>\n",
       "      <td>UK</td>\n",
       "      <td>111</td>\n",
       "      <td>0</td>\n",
       "      <td>Ads</td>\n",
       "      <td>10</td>\n",
       "      <td>1</td>\n",
       "    </tr>\n",
       "  </tbody>\n",
       "</table>\n",
       "</div>"
      ],
      "text/plain": [
       "        country  age  new_user source  total_pages_visited  converted\n",
       "90928   Germany  123         0    Seo                   15          1\n",
       "295581       UK  111         0    Ads                   10          1"
      ]
     },
     "execution_count": 45,
     "metadata": {},
     "output_type": "execute_result"
    }
   ],
   "source": [
    "df[df['age'] > 100]"
   ]
  },
  {
   "cell_type": "code",
   "execution_count": 46,
   "metadata": {},
   "outputs": [],
   "source": [
    "# Remove outliers\n",
    "df = df[df.age < 100]"
   ]
  },
  {
   "cell_type": "code",
   "execution_count": 47,
   "metadata": {},
   "outputs": [
    {
     "data": {
      "text/html": [
       "<div>\n",
       "<style scoped>\n",
       "    .dataframe tbody tr th:only-of-type {\n",
       "        vertical-align: middle;\n",
       "    }\n",
       "\n",
       "    .dataframe tbody tr th {\n",
       "        vertical-align: top;\n",
       "    }\n",
       "\n",
       "    .dataframe thead th {\n",
       "        text-align: right;\n",
       "    }\n",
       "</style>\n",
       "<table border=\"1\" class=\"dataframe\">\n",
       "  <thead>\n",
       "    <tr style=\"text-align: right;\">\n",
       "      <th></th>\n",
       "      <th>age</th>\n",
       "      <th>new_user</th>\n",
       "      <th>total_pages_visited</th>\n",
       "      <th>converted</th>\n",
       "    </tr>\n",
       "  </thead>\n",
       "  <tbody>\n",
       "    <tr>\n",
       "      <th>count</th>\n",
       "      <td>316198.000000</td>\n",
       "      <td>316198.000000</td>\n",
       "      <td>316198.000000</td>\n",
       "      <td>316198.000000</td>\n",
       "    </tr>\n",
       "    <tr>\n",
       "      <th>mean</th>\n",
       "      <td>30.569311</td>\n",
       "      <td>0.685469</td>\n",
       "      <td>4.872918</td>\n",
       "      <td>0.032252</td>\n",
       "    </tr>\n",
       "    <tr>\n",
       "      <th>std</th>\n",
       "      <td>8.268958</td>\n",
       "      <td>0.464329</td>\n",
       "      <td>3.341053</td>\n",
       "      <td>0.176669</td>\n",
       "    </tr>\n",
       "    <tr>\n",
       "      <th>min</th>\n",
       "      <td>17.000000</td>\n",
       "      <td>0.000000</td>\n",
       "      <td>1.000000</td>\n",
       "      <td>0.000000</td>\n",
       "    </tr>\n",
       "    <tr>\n",
       "      <th>25%</th>\n",
       "      <td>24.000000</td>\n",
       "      <td>0.000000</td>\n",
       "      <td>2.000000</td>\n",
       "      <td>0.000000</td>\n",
       "    </tr>\n",
       "    <tr>\n",
       "      <th>50%</th>\n",
       "      <td>30.000000</td>\n",
       "      <td>1.000000</td>\n",
       "      <td>4.000000</td>\n",
       "      <td>0.000000</td>\n",
       "    </tr>\n",
       "    <tr>\n",
       "      <th>75%</th>\n",
       "      <td>36.000000</td>\n",
       "      <td>1.000000</td>\n",
       "      <td>7.000000</td>\n",
       "      <td>0.000000</td>\n",
       "    </tr>\n",
       "    <tr>\n",
       "      <th>max</th>\n",
       "      <td>79.000000</td>\n",
       "      <td>1.000000</td>\n",
       "      <td>29.000000</td>\n",
       "      <td>1.000000</td>\n",
       "    </tr>\n",
       "  </tbody>\n",
       "</table>\n",
       "</div>"
      ],
      "text/plain": [
       "                 age       new_user  total_pages_visited      converted\n",
       "count  316198.000000  316198.000000        316198.000000  316198.000000\n",
       "mean       30.569311       0.685469             4.872918       0.032252\n",
       "std         8.268958       0.464329             3.341053       0.176669\n",
       "min        17.000000       0.000000             1.000000       0.000000\n",
       "25%        24.000000       0.000000             2.000000       0.000000\n",
       "50%        30.000000       1.000000             4.000000       0.000000\n",
       "75%        36.000000       1.000000             7.000000       0.000000\n",
       "max        79.000000       1.000000            29.000000       1.000000"
      ]
     },
     "execution_count": 47,
     "metadata": {},
     "output_type": "execute_result"
    }
   ],
   "source": [
    "df.describe()"
   ]
  },
  {
   "cell_type": "markdown",
   "metadata": {},
   "source": [
    "**The distribution of numerical feature values across 316200 samples:**\n",
    "- Most visitors' age are around 22-38.\n",
    "- 69% of visitors are new users. \n",
    "- Total_pages_visited per visitor is around 4-5.\n",
    "- The conversion rate=3.23% indicates that visitors are hard to convert into customers.\n"
   ]
  },
  {
   "cell_type": "markdown",
   "metadata": {},
   "source": [
    "## Exploratory Data Analysis\n",
    "- Feature Analysis : Country / User Type / Total Pages visited / Sources /Ages"
   ]
  },
  {
   "cell_type": "code",
   "execution_count": 48,
   "metadata": {},
   "outputs": [
    {
     "data": {
      "image/png": "[encoded data removed]",
      "text/plain": [
       "<Figure size 1296x432 with 2 Axes>"
      ]
     },
     "metadata": {
      "needs_background": "light"
     },
     "output_type": "display_data"
    }
   ],
   "source": [
    "# Visualization of different countries\n",
    "grouped = df[['country', 'converted']].groupby('country').mean().reset_index()\n",
    "\n",
    "fig, ax = plt.subplots(nrows=1, ncols=2, figsize=(18, 6))\n",
    "sns.countplot(x='country', hue='converted', data=df, ax=ax[0])\n",
    "ax[0].set_title('Count Plot of Country', fontsize=16)\n",
    "ax[0].set_yscale('log')\n",
    "sns.barplot(x='country', y='converted', data=df, ax=ax[1]);\n",
    "ax[1].set_title('Mean Conversion Rate per Country', fontsize=16)\n",
    "plt.tight_layout()\n",
    "plt.show()"
   ]
  },
  {
   "cell_type": "markdown",
   "metadata": {},
   "source": [
    "**Assumption based on country:**\n",
    "- The overall rate of Conversion = 0 is greater than conversion = 1.\n",
    "- Most visitors are from US.\n",
    "- German has less visitors but highest conversion rate.\n",
    "- China has 2nd rank of visitors number but with extreme low conversion rate. \n",
    "\n",
    "It might be a reason that affect visitors. Website language for product description may be all English. \\\n",
    "Since China is a large population country. Improving Chinese visitors' user experience, it might be a good strategy to increase conversion rate."
   ]
  },
  {
   "cell_type": "code",
   "execution_count": 33,
   "metadata": {},
   "outputs": [
    {
     "data": {
      "image/png": "[encoded data removed]",
      "text/plain": [
       "<Figure size 1296x432 with 2 Axes>"
      ]
     },
     "metadata": {
      "needs_background": "light"
     },
     "output_type": "display_data"
    }
   ],
   "source": [
    "# Visualization of different user types\n",
    "grouped = df[['new_user', 'converted']].groupby('new_user').mean().reset_index()\n",
    "\n",
    "fig, ax = plt.subplots(nrows=1, ncols=2, figsize=(18, 6))\n",
    "sns.countplot(x='new_user', hue='converted', data=df, ax=ax[0])\n",
    "ax[0].set_title('Count Plot of User Types', fontsize=16)\n",
    "ax[0].set_yscale('log')\n",
    "sns.barplot(x='new_user', y='converted', data=df, ax=ax[1]);\n",
    "ax[1].set_title('Mean Conversion Rate per User Type', fontsize=16)\n",
    "plt.tight_layout()\n",
    "plt.show()"
   ]
  },
  {
   "cell_type": "markdown",
   "metadata": {},
   "source": [
    "**Assumption based on user type:**  \\\n",
    "The mean conversion rate of old-users is almost 75.7% than that of new-users. "
   ]
  },
  {
   "cell_type": "code",
   "execution_count": 37,
   "metadata": {
    "scrolled": true
   },
   "outputs": [
    {
     "data": {
      "image/png": "[encoded data removed]",
      "text/plain": [
       "<Figure size 1296x432 with 2 Axes>"
      ]
     },
     "metadata": {
      "needs_background": "light"
     },
     "output_type": "display_data"
    }
   ],
   "source": [
    "# Visualization of different sources\n",
    "grouped = df[['source', 'converted']].groupby('source').mean().reset_index()\n",
    "\n",
    "fig, ax = plt.subplots(nrows=1, ncols=2, figsize=(18, 6))\n",
    "sns.countplot(x='source', hue='converted', data=df, ax=ax[0])\n",
    "ax[0].set_title('Count Plot of Different Sources', fontsize=16)\n",
    "ax[0].set_yscale('log')\n",
    "sns.barplot(x='source', y='converted', data=df, ax=ax[1]);\n",
    "ax[1].set_title('Mean Conversion Rate per Source', fontsize=16)\n",
    "plt.tight_layout()\n",
    "plt.show()"
   ]
  },
  {
   "cell_type": "markdown",
   "metadata": {},
   "source": [
    "**Assumption based on sources:**   \n",
    "\n",
    "    Ads: came to the site by clicking on an advertisement\n",
    "    Seo: came to the site by clicking on search results\n",
    "    Direct: came to the site by directly typing the URL on the browser  \n",
    "- The advertisement can be a powerful campaign to attract visitors.\n",
    "- Visitors from search source has the highest conversion rate. They have more motivation to purchase since they have a purpose in knowing about the product."
   ]
  },
  {
   "cell_type": "code",
   "execution_count": 49,
   "metadata": {},
   "outputs": [
    {
     "data": {
      "image/png": "[encoded data removed]",
      "text/plain": [
       "<Figure size 1296x432 with 2 Axes>"
      ]
     },
     "metadata": {
      "needs_background": "light"
     },
     "output_type": "display_data"
    }
   ],
   "source": [
    "# Visualization of different age\n",
    "grouped = df[['age', 'converted']].groupby('age').mean().reset_index()\n",
    "hist_kws={'histtype': 'bar', 'edgecolor':'black', 'alpha': 0.2}\n",
    "\n",
    "fig, ax = plt.subplots(nrows=1, ncols=2, figsize=(18, 6))\n",
    "sns.distplot(df[df['converted'] == 0]['age'], label='Converted 0', \n",
    "             ax=ax[0], hist_kws=hist_kws)\n",
    "sns.distplot(df[df['converted'] == 1]['age'], label='Converted 1', \n",
    "             ax=ax[0], hist_kws=hist_kws)\n",
    "ax[0].set_title('Count Plot of Age', fontsize=16)\n",
    "ax[0].legend()\n",
    "ax[1].plot(grouped['age'], grouped['converted'], '.-')\n",
    "ax[1].set_title('Mean Conversion Rate vs. Age', fontsize=16)\n",
    "ax[1].set_xlabel('age')\n",
    "ax[1].set_ylabel('Mean convertion rate')\n",
    "ax[1].grid(True)\n",
    "plt.show()"
   ]
  },
  {
   "cell_type": "markdown",
   "metadata": {},
   "source": [
    "**Assumption based on age:**\n",
    "- Most visitors' age are around 22-38 and all visitors age>65 are not convert into customer. \n",
    "- Negative relasionship between age and conversion rate. Normally younger people have higher purchase demand than older person.\n",
    "- Especially visitors' age from 18-32 has higher conversion rate. The reason might be that the product suits younger people's need more."
   ]
  },
  {
   "cell_type": "code",
   "execution_count": 67,
   "metadata": {},
   "outputs": [
    {
     "data": {
      "image/png": "[encoded data removed]",
      "text/plain": [
       "<Figure size 1296x432 with 2 Axes>"
      ]
     },
     "metadata": {
      "needs_background": "light"
     },
     "output_type": "display_data"
    }
   ],
   "source": [
    "# Visualization of total_pages_visited\n",
    "grouped = df[['total_pages_visited', 'converted']].groupby('total_pages_visited').mean().reset_index()\n",
    "\n",
    "fig, ax = plt.subplots(nrows=1, ncols=2, figsize=(18, 6))\n",
    "sns.distplot(df[df['converted'] == 0]['total_pages_visited'], \n",
    "             label='Converted 0', ax=ax[0], hist_kws=hist_kws)\n",
    "sns.distplot(df[df['converted'] == 1]['total_pages_visited'], \n",
    "             label='Converted 1', ax=ax[0], hist_kws=hist_kws)\n",
    "ax[0].set_title('Count Plot of Age', fontsize=16)\n",
    "ax[0].legend()\n",
    "ax[1].plot(grouped['total_pages_visited'], grouped['converted'], '.-')\n",
    "ax[1].set_title('Mean Conversion Rate vs. Total_pages_visited', fontsize=16)\n",
    "ax[1].set_xlabel('total_pages_visited')\n",
    "ax[1].set_ylabel('Mean convertion rate')\n",
    "ax[1].grid(True)\n",
    "plt.show()"
   ]
  },
  {
   "cell_type": "code",
   "execution_count": 36,
   "metadata": {},
   "outputs": [
    {
     "data": {
      "image/png": "[encoded data removed]",
      "text/plain": [
       "<Figure size 432x288 with 1 Axes>"
      ]
     },
     "metadata": {
      "needs_background": "light"
     },
     "output_type": "display_data"
    }
   ],
   "source": [
    "# Visualization of total_pages_visited\n",
    "#page_cr = df.groupby(\"total_pages_visited\")[\"converted\"].mean()\n",
    "#plt.plot(page_cr.index,page_cr.values,\"r--\")\n",
    "#plt.xlabel(\"Total pages visited\", fontsize=15)\n",
    "#plt.ylabel(\"Mean conversion rate\", fontsize=15)\n",
    "#plt.show()"
   ]
  },
  {
   "cell_type": "markdown",
   "metadata": {},
   "source": [
    "There is a positive regression relationship between total_pages_visited and converted mean. The visitor with greater visites pages has higher potential to convert into customer."
   ]
  },
  {
   "cell_type": "markdown",
   "metadata": {},
   "source": [
    "## Machine Learning\n",
    "Preprocessed data with different methods:\n",
    "- Modeling: Random Forest\n",
    "    - H2o https://towardsdatascience.com/democratising-machine-learning-with-h2o-7f2f79e10e3f\n",
    "    - scikit-learn + Feature Engneering(One-hot-encoding/dummy coding,Normalization) \n",
    "    - cross validation/ 10-fold validation\n",
    "  "
   ]
  },
  {
   "cell_type": "markdown",
   "metadata": {},
   "source": [
    "### H2o + Stratified Sampling (7:3)"
   ]
  },
  {
   "cell_type": "code",
   "execution_count": null,
   "metadata": {},
   "outputs": [],
   "source": [
    "# Initialize H2O cluster\n",
    "h2o.init()\n",
    "h2o.remove_all()"
   ]
  },
  {
   "cell_type": "code",
   "execution_count": 53,
   "metadata": {
    "scrolled": true
   },
   "outputs": [
    {
     "name": "stdout",
     "output_type": "stream",
     "text": [
      "Parse progress: |█████████████████████████████████████████████████████████| 100%\n"
     ]
    },
    {
     "data": {
      "text/html": [
       "<table>\n",
       "<thead>\n",
       "<tr><th>       </th><th>country  </th><th>age              </th><th>new_user  </th><th>source  </th><th>total_pages_visited  </th><th>converted  </th></tr>\n",
       "</thead>\n",
       "<tbody>\n",
       "<tr><td>type   </td><td>enum     </td><td>int              </td><td>enum      </td><td>enum    </td><td>int                  </td><td>enum       </td></tr>\n",
       "<tr><td>mins   </td><td>         </td><td>17.0             </td><td>          </td><td>        </td><td>1.0                  </td><td>           </td></tr>\n",
       "<tr><td>mean   </td><td>         </td><td>30.56931100133461</td><td>          </td><td>        </td><td>4.872918234777001    </td><td>           </td></tr>\n",
       "<tr><td>maxs   </td><td>         </td><td>79.0             </td><td>          </td><td>        </td><td>29.0                 </td><td>           </td></tr>\n",
       "<tr><td>sigma  </td><td>         </td><td>8.268957596421435</td><td>          </td><td>        </td><td>3.3410533442156285   </td><td>           </td></tr>\n",
       "<tr><td>zeros  </td><td>         </td><td>0                </td><td>          </td><td>        </td><td>0                    </td><td>           </td></tr>\n",
       "<tr><td>missing</td><td>0        </td><td>0                </td><td>0         </td><td>0       </td><td>0                    </td><td>0          </td></tr>\n",
       "<tr><td>0      </td><td>UK       </td><td>25.0             </td><td>1         </td><td>Ads     </td><td>1.0                  </td><td>0          </td></tr>\n",
       "<tr><td>1      </td><td>US       </td><td>23.0             </td><td>1         </td><td>Seo     </td><td>5.0                  </td><td>0          </td></tr>\n",
       "<tr><td>2      </td><td>US       </td><td>28.0             </td><td>1         </td><td>Seo     </td><td>4.0                  </td><td>0          </td></tr>\n",
       "<tr><td>3      </td><td>China    </td><td>39.0             </td><td>1         </td><td>Seo     </td><td>5.0                  </td><td>0          </td></tr>\n",
       "<tr><td>4      </td><td>US       </td><td>30.0             </td><td>1         </td><td>Seo     </td><td>6.0                  </td><td>0          </td></tr>\n",
       "<tr><td>5      </td><td>US       </td><td>31.0             </td><td>0         </td><td>Seo     </td><td>1.0                  </td><td>0          </td></tr>\n",
       "<tr><td>6      </td><td>China    </td><td>27.0             </td><td>1         </td><td>Seo     </td><td>4.0                  </td><td>0          </td></tr>\n",
       "<tr><td>7      </td><td>US       </td><td>23.0             </td><td>0         </td><td>Ads     </td><td>4.0                  </td><td>0          </td></tr>\n",
       "<tr><td>8      </td><td>UK       </td><td>29.0             </td><td>0         </td><td>Direct  </td><td>4.0                  </td><td>0          </td></tr>\n",
       "<tr><td>9      </td><td>US       </td><td>25.0             </td><td>0         </td><td>Ads     </td><td>2.0                  </td><td>0          </td></tr>\n",
       "</tbody>\n",
       "</table>"
      ]
     },
     "metadata": {},
     "output_type": "display_data"
    }
   ],
   "source": [
    "dfh=df.copy()\n",
    "# Transform to H2O Frame, and make sure the target variable is categorical\n",
    "h2o_df = H2OFrame(dfh)\n",
    "h2o_df['new_user'] = h2o_df['new_user'].asfactor()\n",
    "h2o_df['converted'] = h2o_df['converted'].asfactor()\n",
    "\n",
    "h2o_df.summary()"
   ]
  },
  {
   "cell_type": "code",
   "execution_count": 55,
   "metadata": {},
   "outputs": [],
   "source": [
    "#Split into 70% training and 30% test dataset\n",
    "strat_split = h2o_df['converted'].stratified_split(test_frac=0.3, seed=42)\n",
    "\n",
    "train = h2o_df[strat_split == 'train']\n",
    "test = h2o_df[strat_split == 'test']\n",
    "\n",
    "feature = ['country', 'age', 'new_user', 'source', 'total_pages_visited']\n",
    "target = 'converted'"
   ]
  },
  {
   "cell_type": "code",
   "execution_count": 56,
   "metadata": {},
   "outputs": [
    {
     "name": "stdout",
     "output_type": "stream",
     "text": [
      "drf Model Build progress: |███████████████████████████████████████████████| 100%\n"
     ]
    }
   ],
   "source": [
    "# Build random forest model\n",
    "model = H2ORandomForestEstimator(balance_classes=True, ntrees=100, max_depth=20, \n",
    "                                 mtries=-1, seed=42, score_each_iteration=True)\n",
    "model.train(x=feature, y=target, training_frame=train)"
   ]
  },
  {
   "cell_type": "code",
   "execution_count": 57,
   "metadata": {},
   "outputs": [
    {
     "data": {
      "image/png": "[encoded data removed]",
      "text/plain": [
       "<Figure size 720x576 with 1 Axes>"
      ]
     },
     "metadata": {
      "needs_background": "light"
     },
     "output_type": "display_data"
    }
   ],
   "source": [
    "# Feature importance\n",
    "importance = model.varimp(use_pandas=True)\n",
    "\n",
    "fig, ax = plt.subplots(figsize=(10, 8))\n",
    "sns.barplot(x='scaled_importance', y='variable', data=importance)\n",
    "plt.show()"
   ]
  },
  {
   "cell_type": "code",
   "execution_count": 58,
   "metadata": {},
   "outputs": [
    {
     "name": "stdout",
     "output_type": "stream",
     "text": [
      "drf prediction progress: |████████████████████████████████████████████████| 100%\n",
      "drf prediction progress: |████████████████████████████████████████████████| 100%\n"
     ]
    }
   ],
   "source": [
    "# Make predictions\n",
    "train_true = train.as_data_frame()['converted'].values\n",
    "test_true = test.as_data_frame()['converted'].values\n",
    "train_pred = model.predict(train).as_data_frame()['p1'].values\n",
    "test_pred = model.predict(test).as_data_frame()['p1'].values\n",
    "\n",
    "train_fpr, train_tpr, _ = roc_curve(train_true, train_pred)\n",
    "test_fpr, test_tpr, _ = roc_curve(test_true, test_pred)\n",
    "train_auc = np.round(auc(train_fpr, train_tpr), 3)\n",
    "test_auc = np.round(auc(test_fpr, test_tpr), 3)"
   ]
  },
  {
   "cell_type": "code",
   "execution_count": 59,
   "metadata": {},
   "outputs": [
    {
     "name": "stdout",
     "output_type": "stream",
     "text": [
      "              precision    recall  f1-score   support\n",
      "\n",
      "           0       0.99      1.00      0.99     91800\n",
      "           1       0.84      0.63      0.72      3059\n",
      "\n",
      "    accuracy                           0.98     94859\n",
      "   macro avg       0.92      0.81      0.86     94859\n",
      "weighted avg       0.98      0.98      0.98     94859\n",
      "\n"
     ]
    }
   ],
   "source": [
    "# Classification report\n",
    "print(classification_report(y_true=test_true, y_pred=(test_pred > 0.5).astype(int)))"
   ]
  },
  {
   "cell_type": "code",
   "execution_count": 60,
   "metadata": {},
   "outputs": [
    {
     "data": {
      "image/png": "[encoded data removed]",
      "text/plain": [
       "<Figure size 576x432 with 1 Axes>"
      ]
     },
     "metadata": {
      "needs_background": "light"
     },
     "output_type": "display_data"
    }
   ],
   "source": [
    "fig, ax = plt.subplots(figsize=(8, 6))\n",
    "ax.plot(train_fpr, train_tpr, label='Train AUC: ' + str(train_auc))\n",
    "ax.plot(test_fpr, test_tpr, label='Test AUC: ' + str(test_auc))\n",
    "ax.set_xlabel('False Positive Rate', fontsize=12)\n",
    "ax.set_ylabel('True Positive Rate', fontsize=12)\n",
    "ax.legend(fontsize=12)\n",
    "plt.show()"
   ]
  },
  {
   "cell_type": "markdown",
   "metadata": {},
   "source": [
    "# -------------------------------- 97.8% ------------------------------------- "
   ]
  },
  {
   "cell_type": "markdown",
   "metadata": {},
   "source": [
    "# Other method practice."
   ]
  },
  {
   "cell_type": "markdown",
   "metadata": {},
   "source": [
    "### Feature Engineering + scikit learn random forest +cross validation/10-fold validation"
   ]
  },
  {
   "cell_type": "code",
   "execution_count": 91,
   "metadata": {},
   "outputs": [
    {
     "data": {
      "text/html": [
       "<div>\n",
       "<style scoped>\n",
       "    .dataframe tbody tr th:only-of-type {\n",
       "        vertical-align: middle;\n",
       "    }\n",
       "\n",
       "    .dataframe tbody tr th {\n",
       "        vertical-align: top;\n",
       "    }\n",
       "\n",
       "    .dataframe thead th {\n",
       "        text-align: right;\n",
       "    }\n",
       "</style>\n",
       "<table border=\"1\" class=\"dataframe\">\n",
       "  <thead>\n",
       "    <tr style=\"text-align: right;\">\n",
       "      <th></th>\n",
       "      <th>age</th>\n",
       "      <th>new_user</th>\n",
       "      <th>total_pages_visited</th>\n",
       "      <th>converted</th>\n",
       "      <th>country_China</th>\n",
       "      <th>country_Germany</th>\n",
       "      <th>country_UK</th>\n",
       "      <th>country_US</th>\n",
       "      <th>source_Ads</th>\n",
       "      <th>source_Direct</th>\n",
       "      <th>source_Seo</th>\n",
       "    </tr>\n",
       "  </thead>\n",
       "  <tbody>\n",
       "    <tr>\n",
       "      <th>35348</th>\n",
       "      <td>31</td>\n",
       "      <td>0</td>\n",
       "      <td>3</td>\n",
       "      <td>0</td>\n",
       "      <td>0</td>\n",
       "      <td>0</td>\n",
       "      <td>0</td>\n",
       "      <td>1</td>\n",
       "      <td>0</td>\n",
       "      <td>0</td>\n",
       "      <td>1</td>\n",
       "    </tr>\n",
       "    <tr>\n",
       "      <th>126957</th>\n",
       "      <td>31</td>\n",
       "      <td>0</td>\n",
       "      <td>6</td>\n",
       "      <td>0</td>\n",
       "      <td>0</td>\n",
       "      <td>0</td>\n",
       "      <td>0</td>\n",
       "      <td>1</td>\n",
       "      <td>0</td>\n",
       "      <td>1</td>\n",
       "      <td>0</td>\n",
       "    </tr>\n",
       "    <tr>\n",
       "      <th>185004</th>\n",
       "      <td>18</td>\n",
       "      <td>1</td>\n",
       "      <td>1</td>\n",
       "      <td>0</td>\n",
       "      <td>0</td>\n",
       "      <td>0</td>\n",
       "      <td>1</td>\n",
       "      <td>0</td>\n",
       "      <td>1</td>\n",
       "      <td>0</td>\n",
       "      <td>0</td>\n",
       "    </tr>\n",
       "    <tr>\n",
       "      <th>207062</th>\n",
       "      <td>21</td>\n",
       "      <td>1</td>\n",
       "      <td>4</td>\n",
       "      <td>0</td>\n",
       "      <td>0</td>\n",
       "      <td>0</td>\n",
       "      <td>0</td>\n",
       "      <td>1</td>\n",
       "      <td>1</td>\n",
       "      <td>0</td>\n",
       "      <td>0</td>\n",
       "    </tr>\n",
       "    <tr>\n",
       "      <th>289357</th>\n",
       "      <td>38</td>\n",
       "      <td>1</td>\n",
       "      <td>5</td>\n",
       "      <td>0</td>\n",
       "      <td>0</td>\n",
       "      <td>0</td>\n",
       "      <td>1</td>\n",
       "      <td>0</td>\n",
       "      <td>0</td>\n",
       "      <td>0</td>\n",
       "      <td>1</td>\n",
       "    </tr>\n",
       "    <tr>\n",
       "      <th>294592</th>\n",
       "      <td>19</td>\n",
       "      <td>1</td>\n",
       "      <td>10</td>\n",
       "      <td>0</td>\n",
       "      <td>0</td>\n",
       "      <td>0</td>\n",
       "      <td>0</td>\n",
       "      <td>1</td>\n",
       "      <td>0</td>\n",
       "      <td>0</td>\n",
       "      <td>1</td>\n",
       "    </tr>\n",
       "    <tr>\n",
       "      <th>193040</th>\n",
       "      <td>35</td>\n",
       "      <td>0</td>\n",
       "      <td>7</td>\n",
       "      <td>0</td>\n",
       "      <td>1</td>\n",
       "      <td>0</td>\n",
       "      <td>0</td>\n",
       "      <td>0</td>\n",
       "      <td>0</td>\n",
       "      <td>0</td>\n",
       "      <td>1</td>\n",
       "    </tr>\n",
       "    <tr>\n",
       "      <th>225535</th>\n",
       "      <td>20</td>\n",
       "      <td>1</td>\n",
       "      <td>3</td>\n",
       "      <td>0</td>\n",
       "      <td>0</td>\n",
       "      <td>0</td>\n",
       "      <td>0</td>\n",
       "      <td>1</td>\n",
       "      <td>0</td>\n",
       "      <td>0</td>\n",
       "      <td>1</td>\n",
       "    </tr>\n",
       "    <tr>\n",
       "      <th>308586</th>\n",
       "      <td>20</td>\n",
       "      <td>1</td>\n",
       "      <td>10</td>\n",
       "      <td>0</td>\n",
       "      <td>1</td>\n",
       "      <td>0</td>\n",
       "      <td>0</td>\n",
       "      <td>0</td>\n",
       "      <td>1</td>\n",
       "      <td>0</td>\n",
       "      <td>0</td>\n",
       "    </tr>\n",
       "    <tr>\n",
       "      <th>183150</th>\n",
       "      <td>21</td>\n",
       "      <td>1</td>\n",
       "      <td>8</td>\n",
       "      <td>0</td>\n",
       "      <td>0</td>\n",
       "      <td>1</td>\n",
       "      <td>0</td>\n",
       "      <td>0</td>\n",
       "      <td>0</td>\n",
       "      <td>1</td>\n",
       "      <td>0</td>\n",
       "    </tr>\n",
       "  </tbody>\n",
       "</table>\n",
       "</div>"
      ],
      "text/plain": [
       "        age  new_user  total_pages_visited  converted  country_China  \\\n",
       "35348    31         0                    3          0              0   \n",
       "126957   31         0                    6          0              0   \n",
       "185004   18         1                    1          0              0   \n",
       "207062   21         1                    4          0              0   \n",
       "289357   38         1                    5          0              0   \n",
       "294592   19         1                   10          0              0   \n",
       "193040   35         0                    7          0              1   \n",
       "225535   20         1                    3          0              0   \n",
       "308586   20         1                   10          0              1   \n",
       "183150   21         1                    8          0              0   \n",
       "\n",
       "        country_Germany  country_UK  country_US  source_Ads  source_Direct  \\\n",
       "35348                 0           0           1           0              0   \n",
       "126957                0           0           1           0              1   \n",
       "185004                0           1           0           1              0   \n",
       "207062                0           0           1           1              0   \n",
       "289357                0           1           0           0              0   \n",
       "294592                0           0           1           0              0   \n",
       "193040                0           0           0           0              0   \n",
       "225535                0           0           1           0              0   \n",
       "308586                0           0           0           1              0   \n",
       "183150                1           0           0           0              1   \n",
       "\n",
       "        source_Seo  \n",
       "35348            1  \n",
       "126957           0  \n",
       "185004           0  \n",
       "207062           0  \n",
       "289357           1  \n",
       "294592           1  \n",
       "193040           1  \n",
       "225535           1  \n",
       "308586           0  \n",
       "183150           0  "
      ]
     },
     "execution_count": 91,
     "metadata": {},
     "output_type": "execute_result"
    }
   ],
   "source": [
    "#Convert the categorical values to ordinal.\n",
    "#That categorical data is defined as variables with a finite set of label values. \n",
    "#That most machine learning algorithms require numerical input and output variables. \n",
    "#That an integer and one hot encoding is used to convert categorical data to integer data.\n",
    "\n",
    "#one-hot-coding\n",
    "#dfc=df.copy()\n",
    "#dfc['country'] = dfc['country'].map({\"China\": 1, \"Germany\": 2, \"UK\": 3, \"US\": 4}).astype(int)\n",
    "#dfc['source'] = dfc['source'].map( {'Ads': 0, 'Direct': 1, 'Seo': 2} ).astype(int)\n",
    "#dfc.sample(10)\n",
    "\n",
    "#dummy coding\n",
    "# Create dummy variables for country values\n",
    "dfd=df.copy()\n",
    "country_dummies = pd.get_dummies(dfd.country, prefix='country')\n",
    "dfd = pd.concat([dfd, country_dummies], axis=1)\n",
    "# Create dummy variables for source values\n",
    "source_dummies = pd.get_dummies(dfd.source, prefix='source')\n",
    "dfd = pd.concat([dfd, source_dummies], axis=1)\n",
    "dfd.drop([\"country\", \"source\"], axis=1, inplace=True)\n",
    "dfd.sample(10)"
   ]
  },
  {
   "cell_type": "code",
   "execution_count": 96,
   "metadata": {
    "scrolled": false
   },
   "outputs": [
    {
     "data": {
      "text/html": [
       "<div>\n",
       "<style scoped>\n",
       "    .dataframe tbody tr th:only-of-type {\n",
       "        vertical-align: middle;\n",
       "    }\n",
       "\n",
       "    .dataframe tbody tr th {\n",
       "        vertical-align: top;\n",
       "    }\n",
       "\n",
       "    .dataframe thead th {\n",
       "        text-align: right;\n",
       "    }\n",
       "</style>\n",
       "<table border=\"1\" class=\"dataframe\">\n",
       "  <thead>\n",
       "    <tr style=\"text-align: right;\">\n",
       "      <th></th>\n",
       "      <th>country_UK</th>\n",
       "      <th>country_US</th>\n",
       "      <th>country_Germany</th>\n",
       "      <th>country_China</th>\n",
       "      <th>source_Ads</th>\n",
       "      <th>source_Direct</th>\n",
       "      <th>source_Seo</th>\n",
       "      <th>age</th>\n",
       "      <th>new_user</th>\n",
       "      <th>total_pages_visited</th>\n",
       "      <th>converted</th>\n",
       "    </tr>\n",
       "  </thead>\n",
       "  <tbody>\n",
       "    <tr>\n",
       "      <th>239882</th>\n",
       "      <td>0</td>\n",
       "      <td>0</td>\n",
       "      <td>0</td>\n",
       "      <td>1</td>\n",
       "      <td>0</td>\n",
       "      <td>0</td>\n",
       "      <td>1</td>\n",
       "      <td>0.179245</td>\n",
       "      <td>1</td>\n",
       "      <td>0.250000</td>\n",
       "      <td>0</td>\n",
       "    </tr>\n",
       "    <tr>\n",
       "      <th>176307</th>\n",
       "      <td>0</td>\n",
       "      <td>1</td>\n",
       "      <td>0</td>\n",
       "      <td>0</td>\n",
       "      <td>0</td>\n",
       "      <td>1</td>\n",
       "      <td>0</td>\n",
       "      <td>0.320755</td>\n",
       "      <td>1</td>\n",
       "      <td>0.071429</td>\n",
       "      <td>0</td>\n",
       "    </tr>\n",
       "    <tr>\n",
       "      <th>133877</th>\n",
       "      <td>1</td>\n",
       "      <td>0</td>\n",
       "      <td>0</td>\n",
       "      <td>0</td>\n",
       "      <td>1</td>\n",
       "      <td>0</td>\n",
       "      <td>0</td>\n",
       "      <td>0.141509</td>\n",
       "      <td>1</td>\n",
       "      <td>0.178571</td>\n",
       "      <td>0</td>\n",
       "    </tr>\n",
       "    <tr>\n",
       "      <th>159406</th>\n",
       "      <td>0</td>\n",
       "      <td>1</td>\n",
       "      <td>0</td>\n",
       "      <td>0</td>\n",
       "      <td>1</td>\n",
       "      <td>0</td>\n",
       "      <td>0</td>\n",
       "      <td>0.179245</td>\n",
       "      <td>1</td>\n",
       "      <td>0.250000</td>\n",
       "      <td>0</td>\n",
       "    </tr>\n",
       "    <tr>\n",
       "      <th>27717</th>\n",
       "      <td>0</td>\n",
       "      <td>0</td>\n",
       "      <td>0</td>\n",
       "      <td>1</td>\n",
       "      <td>0</td>\n",
       "      <td>0</td>\n",
       "      <td>1</td>\n",
       "      <td>0.179245</td>\n",
       "      <td>1</td>\n",
       "      <td>0.285714</td>\n",
       "      <td>0</td>\n",
       "    </tr>\n",
       "    <tr>\n",
       "      <th>228607</th>\n",
       "      <td>1</td>\n",
       "      <td>0</td>\n",
       "      <td>0</td>\n",
       "      <td>0</td>\n",
       "      <td>0</td>\n",
       "      <td>0</td>\n",
       "      <td>1</td>\n",
       "      <td>0.056604</td>\n",
       "      <td>1</td>\n",
       "      <td>0.000000</td>\n",
       "      <td>0</td>\n",
       "    </tr>\n",
       "    <tr>\n",
       "      <th>303396</th>\n",
       "      <td>0</td>\n",
       "      <td>0</td>\n",
       "      <td>0</td>\n",
       "      <td>1</td>\n",
       "      <td>0</td>\n",
       "      <td>1</td>\n",
       "      <td>0</td>\n",
       "      <td>0.066038</td>\n",
       "      <td>0</td>\n",
       "      <td>0.214286</td>\n",
       "      <td>0</td>\n",
       "    </tr>\n",
       "    <tr>\n",
       "      <th>41950</th>\n",
       "      <td>1</td>\n",
       "      <td>0</td>\n",
       "      <td>0</td>\n",
       "      <td>0</td>\n",
       "      <td>1</td>\n",
       "      <td>0</td>\n",
       "      <td>0</td>\n",
       "      <td>0.103774</td>\n",
       "      <td>1</td>\n",
       "      <td>0.107143</td>\n",
       "      <td>0</td>\n",
       "    </tr>\n",
       "    <tr>\n",
       "      <th>116327</th>\n",
       "      <td>1</td>\n",
       "      <td>0</td>\n",
       "      <td>0</td>\n",
       "      <td>0</td>\n",
       "      <td>0</td>\n",
       "      <td>0</td>\n",
       "      <td>1</td>\n",
       "      <td>0.216981</td>\n",
       "      <td>0</td>\n",
       "      <td>0.000000</td>\n",
       "      <td>0</td>\n",
       "    </tr>\n",
       "    <tr>\n",
       "      <th>277559</th>\n",
       "      <td>0</td>\n",
       "      <td>0</td>\n",
       "      <td>1</td>\n",
       "      <td>0</td>\n",
       "      <td>0</td>\n",
       "      <td>1</td>\n",
       "      <td>0</td>\n",
       "      <td>0.047170</td>\n",
       "      <td>1</td>\n",
       "      <td>0.428571</td>\n",
       "      <td>1</td>\n",
       "    </tr>\n",
       "  </tbody>\n",
       "</table>\n",
       "</div>"
      ],
      "text/plain": [
       "        country_UK  country_US  country_Germany  country_China  source_Ads  \\\n",
       "239882           0           0                0              1           0   \n",
       "176307           0           1                0              0           0   \n",
       "133877           1           0                0              0           1   \n",
       "159406           0           1                0              0           1   \n",
       "27717            0           0                0              1           0   \n",
       "228607           1           0                0              0           0   \n",
       "303396           0           0                0              1           0   \n",
       "41950            1           0                0              0           1   \n",
       "116327           1           0                0              0           0   \n",
       "277559           0           0                1              0           0   \n",
       "\n",
       "        source_Direct  source_Seo       age  new_user  total_pages_visited  \\\n",
       "239882              0           1  0.179245         1             0.250000   \n",
       "176307              1           0  0.320755         1             0.071429   \n",
       "133877              0           0  0.141509         1             0.178571   \n",
       "159406              0           0  0.179245         1             0.250000   \n",
       "27717               0           1  0.179245         1             0.285714   \n",
       "228607              0           1  0.056604         1             0.000000   \n",
       "303396              1           0  0.066038         0             0.214286   \n",
       "41950               0           0  0.103774         1             0.107143   \n",
       "116327              0           1  0.216981         0             0.000000   \n",
       "277559              1           0  0.047170         1             0.428571   \n",
       "\n",
       "        converted  \n",
       "239882          0  \n",
       "176307          0  \n",
       "133877          0  \n",
       "159406          0  \n",
       "27717           0  \n",
       "228607          0  \n",
       "303396          0  \n",
       "41950           0  \n",
       "116327          0  \n",
       "277559          1  "
      ]
     },
     "execution_count": 96,
     "metadata": {},
     "output_type": "execute_result"
    }
   ],
   "source": [
    "#Normalization (Here used min-max normalization)\n",
    "# Min-max normalization: Guarantees all features will have the exact same scale but does not handle outliers well. \n",
    "# Z-score normalization: Handles outliers, but does not produce normalized data with the exact same scale.\n",
    "dfd_normalize = dfd[[\"age\", \"total_pages_visited\"]].copy()\n",
    "m = dfd_normalize.values\n",
    "min_max_scaler = preprocessing.MinMaxScaler()\n",
    "m_scale = min_max_scaler.fit_transform(m)\n",
    "m_normalize = pd.DataFrame(m_scale, columns = dfd_normalize.columns)\n",
    "dfd[[\"age\", \"total_pages_visited\"]]=m_normalize\n",
    "dfd = dfd[[\"country_UK\", \n",
    "            \"country_US\", \n",
    "            \"country_Germany\", \n",
    "            \"country_China\", \n",
    "            \"source_Ads\", \n",
    "            \"source_Direct\", \n",
    "            \"source_Seo\", \n",
    "            \"age\", \n",
    "            \"new_user\", \n",
    "            \"total_pages_visited\", \n",
    "            \"converted\"]]\n",
    "dfd.sample(10)"
   ]
  },
  {
   "cell_type": "markdown",
   "metadata": {},
   "source": [
    "#### Cross Validation\n",
    "Many a times, the data is imbalanced, i.e there may be a high number of class1 instances but less number of other class instances. Thus we should train and test our algorithm on each and every instance of the dataset. Then we can take an average of all the noted accuracies over the dataset.\n",
    "\n",
    "An algorithm may underfit over a dataset for some training data and sometimes also overfit the data for other training set. Thus with cross-validation, we can achieve a generalised model."
   ]
  },
  {
   "cell_type": "code",
   "execution_count": 127,
   "metadata": {},
   "outputs": [
    {
     "data": {
      "text/plain": [
       "0.9846194391735189"
      ]
     },
     "execution_count": 127,
     "metadata": {},
     "output_type": "execute_result"
    }
   ],
   "source": [
    "#cross validation\n",
    "trains,tests=train_test_split(dfd,test_size=0.3,random_state=0,stratify=dfd['converted'])\n",
    "train_X=trains[trains.columns[:-1]]\n",
    "train_Y=trains[trains.columns[-1:]]\n",
    "test_X=tests[tests.columns[:-1]]\n",
    "test_Y=tests[tests.columns[-1:]]\n",
    "rf=RandomForestClassifier(n_estimators=200)\n",
    "rf.fit(train_X,train_Y)\n",
    "rf.score(test_X,test_Y)"
   ]
  },
  {
   "cell_type": "code",
   "execution_count": 128,
   "metadata": {},
   "outputs": [
    {
     "data": {
      "text/plain": [
       "0.9846932321315623"
      ]
     },
     "execution_count": 128,
     "metadata": {},
     "output_type": "execute_result"
    }
   ],
   "source": [
    "# 10-fold validation\n",
    "X=dfd[dfd.columns[:-1]]\n",
    "Y=dfd['converted']\n",
    "kfold = KFold(n_splits=10, random_state=22)\n",
    "cv_result = cross_val_score(RandomForestClassifier(n_estimators=200),X,Y, cv = kfold,scoring = \"accuracy\")\n",
    "cv_result.mean()"
   ]
  },
  {
   "cell_type": "code",
   "execution_count": 130,
   "metadata": {},
   "outputs": [
    {
     "data": {
      "text/plain": [
       "<matplotlib.axes._subplots.AxesSubplot at 0x1a394682b0>"
      ]
     },
     "execution_count": 130,
     "metadata": {},
     "output_type": "execute_result"
    },
    {
     "data": {
      "image/png": "[encoded data removed]",
      "text/plain": [
       "<Figure size 432x288 with 2 Axes>"
      ]
     },
     "metadata": {
      "needs_background": "light"
     },
     "output_type": "display_data"
    }
   ],
   "source": [
    "y_pred= cross_val_predict(RandomForestClassifier(n_estimators=200),X,Y,cv=10)\n",
    "sns.heatmap(confusion_matrix(Y,y_pred),annot=True,fmt='2.0f')"
   ]
  },
  {
   "cell_type": "code",
   "execution_count": 141,
   "metadata": {
    "scrolled": true
   },
   "outputs": [
    {
     "data": {
      "text/plain": [
       "total_pages_visited    0.806009\n",
       "age                    0.113433\n",
       "new_user               0.040589\n",
       "country_China          0.021587\n",
       "country_UK             0.003902\n",
       "country_US             0.003734\n",
       "country_Germany        0.002778\n",
       "source_Seo             0.002778\n",
       "source_Ads             0.002604\n",
       "source_Direct          0.002584\n",
       "dtype: float64"
      ]
     },
     "execution_count": 141,
     "metadata": {},
     "output_type": "execute_result"
    }
   ],
   "source": [
    "varimp=pd.Series(rf.feature_importances_,X.columns).sort_values(ascending=False)\n",
    "varimp"
   ]
  },
  {
   "cell_type": "markdown",
   "metadata": {},
   "source": [
    "# ----------------------------------98.5%-------------------------------------"
   ]
  },
  {
   "attachments": {},
   "cell_type": "markdown",
   "metadata": {},
   "source": [
    "### feature selection and model improvement\n",
    "\n",
    "Dropped total_pages_visited: This attribute highly affects the output target. Yet, the total_pages_visited is not known before a user visit a website. Thus, this input should only be included for benchmark purposes and should be discarded if the intention is to have a realistic predictive model."
   ]
  },
  {
   "cell_type": "code",
   "execution_count": 143,
   "metadata": {
    "scrolled": true
   },
   "outputs": [
    {
     "data": {
      "text/html": [
       "<div>\n",
       "<style scoped>\n",
       "    .dataframe tbody tr th:only-of-type {\n",
       "        vertical-align: middle;\n",
       "    }\n",
       "\n",
       "    .dataframe tbody tr th {\n",
       "        vertical-align: top;\n",
       "    }\n",
       "\n",
       "    .dataframe thead th {\n",
       "        text-align: right;\n",
       "    }\n",
       "</style>\n",
       "<table border=\"1\" class=\"dataframe\">\n",
       "  <thead>\n",
       "    <tr style=\"text-align: right;\">\n",
       "      <th></th>\n",
       "      <th>country_UK</th>\n",
       "      <th>country_US</th>\n",
       "      <th>country_Germany</th>\n",
       "      <th>country_China</th>\n",
       "      <th>source_Ads</th>\n",
       "      <th>source_Direct</th>\n",
       "      <th>source_Seo</th>\n",
       "      <th>age</th>\n",
       "      <th>new_user</th>\n",
       "      <th>converted</th>\n",
       "    </tr>\n",
       "  </thead>\n",
       "  <tbody>\n",
       "    <tr>\n",
       "      <th>0</th>\n",
       "      <td>1</td>\n",
       "      <td>0</td>\n",
       "      <td>0</td>\n",
       "      <td>0</td>\n",
       "      <td>1</td>\n",
       "      <td>0</td>\n",
       "      <td>0</td>\n",
       "      <td>0.075472</td>\n",
       "      <td>1</td>\n",
       "      <td>0</td>\n",
       "    </tr>\n",
       "    <tr>\n",
       "      <th>1</th>\n",
       "      <td>0</td>\n",
       "      <td>1</td>\n",
       "      <td>0</td>\n",
       "      <td>0</td>\n",
       "      <td>0</td>\n",
       "      <td>0</td>\n",
       "      <td>1</td>\n",
       "      <td>0.056604</td>\n",
       "      <td>1</td>\n",
       "      <td>0</td>\n",
       "    </tr>\n",
       "    <tr>\n",
       "      <th>2</th>\n",
       "      <td>0</td>\n",
       "      <td>1</td>\n",
       "      <td>0</td>\n",
       "      <td>0</td>\n",
       "      <td>0</td>\n",
       "      <td>0</td>\n",
       "      <td>1</td>\n",
       "      <td>0.103774</td>\n",
       "      <td>1</td>\n",
       "      <td>0</td>\n",
       "    </tr>\n",
       "    <tr>\n",
       "      <th>3</th>\n",
       "      <td>0</td>\n",
       "      <td>0</td>\n",
       "      <td>0</td>\n",
       "      <td>1</td>\n",
       "      <td>0</td>\n",
       "      <td>0</td>\n",
       "      <td>1</td>\n",
       "      <td>0.207547</td>\n",
       "      <td>1</td>\n",
       "      <td>0</td>\n",
       "    </tr>\n",
       "    <tr>\n",
       "      <th>4</th>\n",
       "      <td>0</td>\n",
       "      <td>1</td>\n",
       "      <td>0</td>\n",
       "      <td>0</td>\n",
       "      <td>0</td>\n",
       "      <td>0</td>\n",
       "      <td>1</td>\n",
       "      <td>0.122642</td>\n",
       "      <td>1</td>\n",
       "      <td>0</td>\n",
       "    </tr>\n",
       "  </tbody>\n",
       "</table>\n",
       "</div>"
      ],
      "text/plain": [
       "   country_UK  country_US  country_Germany  country_China  source_Ads  \\\n",
       "0           1           0                0              0           1   \n",
       "1           0           1                0              0           0   \n",
       "2           0           1                0              0           0   \n",
       "3           0           0                0              1           0   \n",
       "4           0           1                0              0           0   \n",
       "\n",
       "   source_Direct  source_Seo       age  new_user  converted  \n",
       "0              0           0  0.075472         1          0  \n",
       "1              0           1  0.056604         1          0  \n",
       "2              0           1  0.103774         1          0  \n",
       "3              0           1  0.207547         1          0  \n",
       "4              0           1  0.122642         1          0  "
      ]
     },
     "execution_count": 143,
     "metadata": {},
     "output_type": "execute_result"
    }
   ],
   "source": [
    "df_nopage=dfd.drop(columns=['total_pages_visited'])\n",
    "df_nopage.head()"
   ]
  },
  {
   "cell_type": "code",
   "execution_count": 145,
   "metadata": {},
   "outputs": [
    {
     "data": {
      "text/plain": [
       "0.9676681425258276"
      ]
     },
     "execution_count": 145,
     "metadata": {},
     "output_type": "execute_result"
    }
   ],
   "source": [
    "trains2,tests2=train_test_split(df_nopage,test_size=0.3,random_state=0,stratify=df_nopage['converted'])\n",
    "train_X2=trains2[trains2.columns[:-1]]\n",
    "train_Y2=trains2[trains2.columns[-1:]]\n",
    "test_X2=tests2[tests2.columns[:-1]]\n",
    "test_Y2=tests2[tests2.columns[-1:]]\n",
    "rf2=RandomForestClassifier(n_estimators=200)\n",
    "rf2.fit(train_X2,train_Y2)\n",
    "rf2.score(test_X2,test_Y2)"
   ]
  },
  {
   "cell_type": "code",
   "execution_count": 146,
   "metadata": {},
   "outputs": [
    {
     "data": {
      "text/plain": [
       "new_user           0.411470\n",
       "age                0.324592\n",
       "country_China      0.153980\n",
       "country_US         0.036132\n",
       "country_UK         0.030193\n",
       "country_Germany    0.023774\n",
       "source_Direct      0.007989\n",
       "source_Ads         0.007010\n",
       "source_Seo         0.004860\n",
       "dtype: float64"
      ]
     },
     "execution_count": 146,
     "metadata": {},
     "output_type": "execute_result"
    }
   ],
   "source": [
    "X2=df_nopage[df_nopage.columns[:-1]]\n",
    "varimp_nopages=pd.Series(rf2.feature_importances_,X2.columns).sort_values(ascending=False)\n",
    "varimp_nopages"
   ]
  },
  {
   "cell_type": "markdown",
   "metadata": {},
   "source": [
    "# ----------------------------------96.8%-------------------------------------"
   ]
  },
  {
   "cell_type": "markdown",
   "metadata": {},
   "source": [
    "## Results\n",
    "Here I list the main insights gleaned from my analysis and some associated recommendations.\n",
    "\n",
    "- **Chinese users are hard to convert.**\\\n",
    "This could be just due to translation or cultural issues. Either way, considering how many potential users are in China I'd recommend the UX department take a look at ways to improve it.\n",
    "- **German users are relatively easy to convert.**\\\n",
    "Something is going very right with German users and so a little more focus on these users could have a large effect! This could be something for both UX and marketing to look into.\n",
    "- **Users with an older account are more likely to convert than users with newer accounts.**\\\n",
    "Since they're already in the system, perhaps some targeted emails with offers to bring them back to the site could better capture their conversion potential.\n",
    "- **Young people are much more likely to convert than older people.**\\\n",
    "UX department may want to look into why people 30+ perform so poorly.\n",
    "- **Existing marketing channels do not have a significant effect one way or the other.**\\\n",
    "Considering that the site does well with younger users, development of new marketing channels should be done specifically so that they are aimed at reaching younger people.\n",
    "\n",
    "If a user has visited many pages but hasn't yet converted, they very likely could have a high purchase intent. Perhaps such users could be sent targeted email offers or reminders."
   ]
  },
  {
   "cell_type": "code",
   "execution_count": null,
   "metadata": {},
   "outputs": [],
   "source": []
  }
 ],
 "metadata": {
  "kernelspec": {
   "display_name": "Python 3",
   "language": "python",
   "name": "python3"
  },
  "language_info": {
   "codemirror_mode": {
    "name": "ipython",
    "version": 3
   },
   "file_extension": ".py",
   "mimetype": "text/x-python",
   "name": "python",
   "nbconvert_exporter": "python",
   "pygments_lexer": "ipython3",
   "version": "3.7.3"
  }
 },
 "nbformat": 4,
 "nbformat_minor": 2
}
